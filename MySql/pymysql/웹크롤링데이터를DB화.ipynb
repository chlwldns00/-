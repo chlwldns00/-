{
 "cells": [
  {
   "cell_type": "code",
   "execution_count": null,
   "metadata": {},
   "outputs": [],
   "source": []
  },
  {
   "cell_type": "markdown",
   "metadata": {},
   "source": [
    "### DB구축 "
   ]
  },
  {
   "cell_type": "code",
   "execution_count": 3,
   "metadata": {},
   "outputs": [],
   "source": [
    "import pymysql\n",
    "db = pymysql.connect(\n",
    "    host='localhost', # 127.0.0.1 , 0.0.0.0 \n",
    "    port=3306, \n",
    "    user='root', # root\n",
    "    passwd='ryan1024@', \n",
    "    db='mydata', \n",
    "    charset='utf8')\n",
    "cursor=db.cursor()"
   ]
  },
  {
   "cell_type": "markdown",
   "metadata": {},
   "source": [
    "### 크롤링해서 DB화 할 데이터 , 테이블 생성, 테이블에 데이터 추가\n",
    "- 사이트![https://davelee-fun.github.io/]\n",
    "- 필요한 테이블:상품정보 테이블(product_info)\n",
    "- 필요한 속성: 컬럼 ==> 추천정보(recom_info), 상품명(product_name), 판매자정보(provider), 등록일(register_date), 제품id(product_id)\n",
    "- 테이블은 sql workbench로 작성 ==> 12.sql 참조\n",
    "- 1페이지 부터 5페이지 까지의 상품정보 DB화"
   ]
  },
  {
   "cell_type": "code",
   "execution_count": null,
   "metadata": {},
   "outputs": [],
   "source": [
    "import requests\n",
    "from bs4 import BeautifulSoup\n",
    "import re\n",
    "\n",
    "res = requests.get('https://davelee-fun.github.io/') #웹사이트 get request\n",
    "soup = BeautifulSoup(res.content, 'html.parser') #html 파싱\n",
    "items = soup.select_one('div.row listrecent')\n",
    "recom_info=items.select('a.text-dark')\n",
    "product_name=items.select('h4.card-text')\n",
    "provider=items.select('')\n",
    "\n",
    "sql=\"\"\" \"\"\""
   ]
  }
 ],
 "metadata": {
  "kernelspec": {
   "display_name": "base",
   "language": "python",
   "name": "python3"
  },
  "language_info": {
   "codemirror_mode": {
    "name": "ipython",
    "version": 3
   },
   "file_extension": ".py",
   "mimetype": "text/x-python",
   "name": "python",
   "nbconvert_exporter": "python",
   "pygments_lexer": "ipython3",
   "version": "3.9.13"
  }
 },
 "nbformat": 4,
 "nbformat_minor": 2
}
