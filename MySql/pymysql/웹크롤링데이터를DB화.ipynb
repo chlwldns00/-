{
 "cells": [
  {
   "cell_type": "code",
   "execution_count": null,
   "metadata": {},
   "outputs": [],
   "source": []
  },
  {
   "cell_type": "markdown",
   "metadata": {},
   "source": [
    "### DB구축 "
   ]
  },
  {
   "cell_type": "code",
   "execution_count": 4,
   "metadata": {},
   "outputs": [],
   "source": [
    "import pymysql\n",
    "db = pymysql.connect(\n",
    "    host='localhost', # 127.0.0.1 , 0.0.0.0 \n",
    "    port=3306, \n",
    "    user='root', # root\n",
    "    passwd='ryan1024@', \n",
    "    db='mydata', \n",
    "    charset='utf8')\n",
    "cursor=db.cursor()"
   ]
  },
  {
   "cell_type": "markdown",
   "metadata": {},
   "source": [
    "### 크롤링해서 DB화 할 데이터 , 테이블 생성, 테이블에 데이터 추가\n",
    "- 사이트![https://davelee-fun.github.io/]\n",
    "- 필요한 테이블:상품정보 테이블(product_info)\n",
    "- 필요한 속성: 컬럼 ==> 추천정보(recom_info), 상품명(product_name), 판매자정보(provider), 등록일(register_date), 제품id(product_id)\n",
    "- 테이블은 sql workbench로 작성 ==> 12.sql 참조\n",
    "- 1페이지 부터 5페이지 까지의 상품정보 DB화"
   ]
  },
  {
   "cell_type": "code",
   "execution_count": 11,
   "metadata": {},
   "outputs": [],
   "source": [
    "import requests\n",
    "from bs4 import BeautifulSoup\n",
    "import re\n",
    "\n",
    "\n",
    "pg=1\n",
    "if pg==1: #1페이지 크롤링시\n",
    "    res = requests.get('https://davelee-fun.github.io/') #웹사이트 get request 1페이지\n",
    "    soup = BeautifulSoup(res.content, 'html.parser') #html 파싱\n",
    "    items = soup.select('div.card h')\n",
    "    product_id=17890001\n",
    "    page_num=pg+1\n",
    "    for item in items:\n",
    "        \n",
    "        recom_info=item.select_one('a.text-dark')\n",
    "        product_name=item.select_one('h4.card-text')\n",
    "        provider=item.select_one('a[target=\"_blank\"]')\n",
    "        register_date=item.select_one('span.post-date')\n",
    "        SQL = \"\"\"INSERT INTO product_info VALUES('\"\"\"+product_id+\"\"\"',\n",
    "        '\"\"\" + str(recom_info.get_text()) + \"\"\"','\"\"\" + str(product_name.get_text()) + \"\"\"','\"\"\" + str(provider.get_text()) + \"\"\"',\n",
    "        '\"\"\" + str(register_date.get_text()) + \"\"\"','\"\"\" +page_num+ \"\"\"');\n",
    "        \"\"\"\n",
    "        print(SQL)\n",
    "        cursor.execute(SQL)"
   ]
  }
 ],
 "metadata": {
  "kernelspec": {
   "display_name": "base",
   "language": "python",
   "name": "python3"
  },
  "language_info": {
   "codemirror_mode": {
    "name": "ipython",
    "version": 3
   },
   "file_extension": ".py",
   "mimetype": "text/x-python",
   "name": "python",
   "nbconvert_exporter": "python",
   "pygments_lexer": "ipython3",
   "version": "3.9.13"
  }
 },
 "nbformat": 4,
 "nbformat_minor": 2
}
