{
 "cells": [
  {
   "cell_type": "markdown",
   "metadata": {},
   "source": [
    "### pymysql 라이브러리 활용해 MYSQL 연동하기"
   ]
  },
  {
   "cell_type": "markdown",
   "metadata": {},
   "source": [
    "- pymysql라이브러리 import"
   ]
  },
  {
   "cell_type": "code",
   "execution_count": 1,
   "metadata": {},
   "outputs": [],
   "source": [
    "import pymysql"
   ]
  },
  {
   "cell_type": "markdown",
   "metadata": {},
   "source": [
    "- MYsql DB접속 허가(sakila DB로 접속)"
   ]
  },
  {
   "cell_type": "code",
   "execution_count": 3,
   "metadata": {},
   "outputs": [],
   "source": [
    "db = pymysql.connect(\n",
    "    host='localhost', # 127.0.0.1 , 0.0.0.0 \n",
    "    port=3306, \n",
    "    user='root', # root\n",
    "    passwd='ryan1024@', \n",
    "    db='sakila', \n",
    "    charset='utf8')"
   ]
  },
  {
   "cell_type": "markdown",
   "metadata": {},
   "source": [
    "- DB내 CRUD 및 sql연산 작업을 위한 객체 cursor 정의"
   ]
  },
  {
   "cell_type": "code",
   "execution_count": 4,
   "metadata": {},
   "outputs": [],
   "source": [
    "cursor = db.cursor()"
   ]
  },
  {
   "cell_type": "markdown",
   "metadata": {},
   "source": [
    "- 수행할 연산을 str로 정의/변수화"
   ]
  },
  {
   "cell_type": "markdown",
   "metadata": {},
   "source": [
    "**sql연산**"
   ]
  },
  {
   "cell_type": "code",
   "execution_count": 8,
   "metadata": {},
   "outputs": [],
   "source": [
    "sql_1 = \"\"\"SELECT rating, COUNT(*) AS total_films, FLOOR(AVG(rental_rate)) AS avg_rental_rate FROM film GROUP BY rating ORDER BY FLOOR(AVG(rental_rate)) DESC\"\"\""
   ]
  },
  {
   "cell_type": "markdown",
   "metadata": {},
   "source": [
    "**CRUD 중 UPDATE**"
   ]
  },
  {
   "cell_type": "code",
   "execution_count": 9,
   "metadata": {},
   "outputs": [],
   "source": [
    "sql_2 = \"\"\"UPDATE film SET\n",
    "        title ='탑건 매버릭',\n",
    "        release_year=2023,\n",
    "        language_id=2,\n",
    "        length=70\n",
    "    WHERE film_id = '1'\"\"\""
   ]
  },
  {
   "cell_type": "markdown",
   "metadata": {},
   "source": [
    "- 연산 수행및 수행결과 DB저장"
   ]
  },
  {
   "cell_type": "code",
   "execution_count": 11,
   "metadata": {},
   "outputs": [
    {
     "name": "stdout",
     "output_type": "stream",
     "text": [
      "(('PG', 194, 3), ('PG-13', 223, 3), ('G', 178, 2), ('NC-17', 210, 2), ('R', 195, 2))\n"
     ]
    }
   ],
   "source": [
    "cursor.execute(sql_1)\n",
    "result=cursor.fetchall()\n",
    "print(result)\n",
    "cursor.execute(sql_2)\n",
    "db.commit()\n",
    "db.close()"
   ]
  },
  {
   "cell_type": "markdown",
   "metadata": {},
   "source": [
    "### 데이터 조회(SELECT) 패턴 코드\n",
    "  - Cursor Object 가져오기: cursor = db.cursor()  \n",
    "  - SQL 실행하기: cursor.execute(SQL)\n",
    "  - mysql 서버로부터 데이터 가져오기: 다음과 같은 fetch 관련 메서드 사용\n",
    "\n",
    "   1. **fetchall()** : 이 메소드는 쿼리 결과의 모든 행을 가져옵니다. 결과는 튜플의 튜플로 반환됩니다. 각 내부 튜플은 하나의 레코드를 나타냅니다.\n",
    "\n",
    "```python\n",
    "cursor.execute(\"SELECT * FROM MyTable\")\n",
    "rows = cursor.fetchall()\n",
    "for row in rows:\n",
    "    print(row)\n",
    "```\n",
    "    \n",
    "    위 코드에서 `fetchall()`은 테이블의 모든 행을 반환합니다. \n",
    "\n",
    "2. **fetchone()** : 이 메소드는 쿼리 결과의 다음 행을 가져옵니다. 결과는 하나의 튜플로 반환되며, 튜플의 각 요소는 각 필드를 나타냅니다. 더 이상 가져올 행이 없으면 None을 반환합니다.\n",
    "\n",
    "```python\n",
    "cursor.execute(\"SELECT * FROM MyTable\")\n",
    "row = cursor.fetchone()\n",
    "while row is not None:\n",
    "    print(row)\n",
    "    row = cursor.fetchone()\n",
    "```\n",
    "    위 코드에서 `fetchone()`은 테이블의 한 행씩 순차적으로 반환합니다.\n",
    "\n",
    "3. **fetchmany(size)** : 이 메소드는 쿼리 결과의 다음 행들을 가져옵니다. 'size'는 가져올 행의 수를 지정합니다. 결과는 튜플의 튜플로 반환됩니다.\n",
    "\n",
    "```python\n",
    "cursor.execute(\"SELECT * FROM MyTable\")\n",
    "rows = cursor.fetchmany(5)\n",
    "while rows:\n",
    "    print(rows)\n",
    "    rows = cursor.fetchmany(5)\n",
    "```\n",
    "    위 코드에서 `fetchmany(5)`는 테이블의 다섯 행씩 순차적으로 반환합니다."
   ]
  }
 ],
 "metadata": {
  "kernelspec": {
   "display_name": "base",
   "language": "python",
   "name": "python3"
  },
  "language_info": {
   "codemirror_mode": {
    "name": "ipython",
    "version": 3
   },
   "file_extension": ".py",
   "mimetype": "text/x-python",
   "name": "python",
   "nbconvert_exporter": "python",
   "pygments_lexer": "ipython3",
   "version": "3.9.13"
  }
 },
 "nbformat": 4,
 "nbformat_minor": 2
}
