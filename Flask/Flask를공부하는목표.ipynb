{
 "cells": [
  {
   "cell_type": "markdown",
   "metadata": {},
   "source": [
    "## 풀스택 서비스 개발 목표"
   ]
  },
  {
   "cell_type": "markdown",
   "metadata": {},
   "source": [
    "### 목표\n",
    "- 최종 목표: \n",
    "  1. 나만의 풀스택 서비스 개발\n",
    "  2. 자유자재로 다양한 기술을 익히고 활용할 수 있는 기본기 쌓기\n",
    "  3. 혼자서도 서비스 개발이 가능한 테크트리\n",
    "  \n",
    "---------------"
   ]
  },
  {
   "cell_type": "markdown",
   "metadata": {},
   "source": [
    "## 1. flask 프레임워크 => 프레임워크란?\n",
    "- 프레임(Frame, 틀) + 워크(work, 일하다)\n",
    "  - 미리 만들어진 틀을 가지고 일하다.\n",
    "<table>\n",
    "    <tr>\n",
    "        <td><img src=\"https://www.fun-coding.org/style/images/ads/lego_frame.jpg\"></td>\n",
    "        <td><img src=\"https://www.fun-coding.org/style/images/ads/lego_set.jpg\"></td>\n",
    "    </tr>\n",
    "</table>"
   ]
  },
  {
   "cell_type": "markdown",
   "metadata": {},
   "source": [
    "#### 프레임워크 예시) 템플릿 코드: 크롤링(타이틀)\n",
    "\n",
    "  \n",
    "#### 예시) 크롤링 프레임워크를 만들고, crawling_template() 함수를 만들어서 사용하는 형태\n",
    "- 장점: 크롤링 원리를 몰라도 크롤링 가능\n",
    "- 단점: 제공하는 기능 외에는 사용 불가, 해당 함수 사용법을 잘 알아도, 프로그래밍 실력이 늘거나, 다른 기술을 익힐 때, 시너지가 없음"
   ]
  },
  {
   "cell_type": "code",
   "execution_count": null,
   "metadata": {},
   "outputs": [],
   "source": [
    "import requests\n",
    "from bs4 import BeautifulSoup\n",
    "\n",
    "def crawling_template(url, css_selector):\n",
    "    return_data = list()\n",
    "    res = requests.get(url)\n",
    "    soup = BeautifulSoup(res.content, 'html.parser')\n",
    "    datas1 = soup.select(css_selector)\n",
    "    for item in datas1:\n",
    "        return_data.append(item.get_text())\n",
    "    return return_data"
   ]
  },
  {
   "cell_type": "markdown",
   "metadata": {},
   "source": [
    "---------------------"
   ]
  },
  {
   "cell_type": "markdown",
   "metadata": {},
   "source": [
    "### Why flask? : 데이터 분석을 하고, 그 알고리즘들을 어플리케이션 화 할떄, 파이썬 라이브러리를 많이 활용할수있는 flask를 사용한다!\n",
    "- 백엔드 기술을 처음 익히는데 적합\n",
    "  - 파이썬을 사용하므로, 다양한 파이썬 라이브러리 활용 가능함 (확장성이 매우 큼)\n",
    "  - 처음 익힐 시에는 복잡도를 낮춰야 함\n",
    "    - 새로운 언어 + 처음 익히는 백엔드 조합은 복잡도가 훨씬 높아져서, 아무것도 익힐 수 없음\n",
    "  - flask 로 백엔드를 익히면, 기본적인 백엔드 기술에 대해 이해도가 높아지고, 다른 기술을 익히는데 도움이 됨\n",
    "    - Rest API, CORS, 데이터베이스 연결, MVC 등 가장 기본적인 기술을 다룰 수 있으며, 이는 다른 언어/프레임워크에 그대로 적용 가능\n",
    "    - 백엔드 이해와 구현 경험을 기반으로 JAVA Spring/Go 등 다른 언어로 구현을 대체하면 빠르게 다양한 기술을 익힐 수 있음\n",
    "  - ++ flask 를 학습하고,  flask 와 매우 유사한 문법으로 바로 익히고 적용할 수 있는 FastAPI 도 다뤄볼수있음.\n",
    "    - 동일한 구조/문법이면서도 FastAPI 가 성능이 보다 좋다."
   ]
  },
  {
   "cell_type": "markdown",
   "metadata": {},
   "source": [
    "-----------------------"
   ]
  },
  {
   "cell_type": "markdown",
   "metadata": {},
   "source": [
    "### 프론트 벡엔드에 대한 추가공부"
   ]
  },
  {
   "cell_type": "markdown",
   "metadata": {},
   "source": [
    "## 1.프론트엔드와 백엔드 기본 구성\n",
    "- 백엔드는 다양하게 구성 가능하고, architecturing 을 할 수 있음\n",
    "  - 주로 동시 접속자 수 규모에 따라, 변경 \n",
    "<img src=\"https://www.fun-coding.org/00_Images/fullstack_web.jpg\">"
   ]
  },
  {
   "cell_type": "markdown",
   "metadata": {},
   "source": [
    "## 2. 웹서비스 개발과 파이썬 flask 를 활용한 웹서비스 개발\n",
    "* 넓게 큰 그림으로 이해하는 웹 서비스 개발 동향\n",
    "  - 1세대: USER ---- INTERNET --- WEB SERVER (Read static HTML)\n",
    "  - 2세대: USER ---- INTERNET --- WEB SERVER (Create request-based HTML from CGI + DB)  \n",
    "  - 3세대: USER ---- INTERNET --- WEB SERVER MVC 패턴 기반 프레임워크 활용 \n",
    "    - MVC: Model - View - Control 패턴으로 구조화된 프레임워크를 사용, 빠르게 다양한 기능을 제공\n",
    "  - 4세대: OpenAPI, RestAPI 를 혼합하여 다양한 서비스 제공, 다양한 웹 서비스 환경 개발"
   ]
  }
 ],
 "metadata": {
  "kernelspec": {
   "display_name": "Python 3 (ipykernel)",
   "language": "python",
   "name": "python3"
  },
  "language_info": {
   "codemirror_mode": {
    "name": "ipython",
    "version": 3
   },
   "file_extension": ".py",
   "mimetype": "text/x-python",
   "name": "python",
   "nbconvert_exporter": "python",
   "pygments_lexer": "ipython3",
   "version": "3.11.4"
  },
  "nbTranslate": {
   "displayLangs": [
    "*"
   ],
   "hotkey": "alt-t",
   "langInMainMenu": true,
   "sourceLang": "en",
   "targetLang": "fr",
   "useGoogleTranslate": true
  }
 },
 "nbformat": 4,
 "nbformat_minor": 2
}
