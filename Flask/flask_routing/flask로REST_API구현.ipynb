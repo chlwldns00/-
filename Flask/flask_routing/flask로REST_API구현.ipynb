{
 "cells": [
  {
   "cell_type": "markdown",
   "metadata": {},
   "source": [
    "## flask 와 Rest API\n"
   ]
  },
  {
   "cell_type": "markdown",
   "metadata": {},
   "source": [
    "### 정적 페이지 리턴하기 (HTML) \n",
    "* 복잡한 URI를 함수로 쉽게 연결하는 방법 제공\n",
    "* h1 ~ h6 는 HTML 제목 태그"
   ]
  },
  {
   "cell_type": "markdown",
   "metadata": {},
   "source": [
    "### flask 내장 프레임워크 app함수의 route메소드 사용방법"
   ]
  },
  {
   "cell_type": "code",
   "execution_count": 1,
   "metadata": {},
   "outputs": [
    {
     "name": "stdout",
     "output_type": "stream",
     "text": [
      " * Serving Flask app \"__main__\" (lazy loading)\n",
      " * Environment: production\n",
      "\u001b[31m   WARNING: This is a development server. Do not use it in a production deployment.\u001b[0m\n",
      "\u001b[2m   Use a production WSGI server instead.\u001b[0m\n",
      " * Debug mode: off\n"
     ]
    },
    {
     "name": "stderr",
     "output_type": "stream",
     "text": [
      " * Running on all addresses.\n",
      "   WARNING: This is a development server. Do not use it in a production deployment.\n",
      " * Running on http://172.17.51.217:8080/ (Press CTRL+C to quit)\n",
      "172.17.51.217 - - [11/Apr/2024 16:24:27] \"GET / HTTP/1.1\" 200 -\n",
      "172.17.51.217 - - [11/Apr/2024 16:24:27] \"GET /favicon.ico HTTP/1.1\" 404 -\n",
      "172.17.51.217 - - [11/Apr/2024 16:24:31] \"GET /hello HTTP/1.1\" 200 -\n",
      "172.17.51.217 - - [11/Apr/2024 16:24:41] \"GET /first HTTP/1.1\" 200 -\n"
     ]
    }
   ],
   "source": [
    "from flask import Flask\n",
    "\n",
    "app = Flask(__name__)\n",
    "@app.route(\"/\") #app함수의 route라는 메소드에 /를 인자로 넣은 데코레이터함수로 감싼다\n",
    "def hello():                           \n",
    "    return \"<h1>Hello World!</h1>\"\n",
    "\n",
    "@app.route(\"/hello\")\n",
    "def hello_flask():\n",
    "    return \"<h1>Hello Flash!</h1>\"\n",
    "\n",
    "@app.route(\"/first\")\n",
    "def hello_first():\n",
    "    return \"<h3>Hello First</h3>\"\n",
    "\n",
    "if __name__ == \"__main__\":              \n",
    "    app.run(host=\"0.0.0.0\", port=\"8080\")"
   ]
  },
  {
   "cell_type": "markdown",
   "metadata": {},
   "source": [
    "### 복잡한 라우팅: 데이터 전달하기(인자값으로 전달)"
   ]
  },
  {
   "cell_type": "markdown",
   "metadata": {},
   "source": [
    "* route메소드는 URI를 변수로 사용\n",
    "  - 다음 코드 추가 후, http://0.0.0.0:8080/profile/chlwldns00 접속\n",
    "  \n",
    "```python\n",
    "@app.route(\"/profile/<username>\") # 인자값으로 받을때 <params> 이런형식으로 인자값을 받음\n",
    "def get_profile(username):\n",
    "    return \"profile: \" + username\n",
    "```"
   ]
  },
  {
   "cell_type": "code",
   "execution_count": 3,
   "metadata": {},
   "outputs": [
    {
     "name": "stdout",
     "output_type": "stream",
     "text": [
      " * Serving Flask app \"__main__\" (lazy loading)\n",
      " * Environment: production\n",
      "\u001b[31m   WARNING: This is a development server. Do not use it in a production deployment.\u001b[0m\n",
      "\u001b[2m   Use a production WSGI server instead.\u001b[0m\n",
      " * Debug mode: off\n"
     ]
    },
    {
     "name": "stderr",
     "output_type": "stream",
     "text": [
      " * Running on all addresses.\n",
      "   WARNING: This is a development server. Do not use it in a production deployment.\n",
      " * Running on http://172.17.51.217:8080/ (Press CTRL+C to quit)\n",
      "172.17.51.217 - - [11/Apr/2024 16:29:02] \"GET / HTTP/1.1\" 200 -\n",
      "172.17.51.217 - - [11/Apr/2024 16:29:02] \"GET /favicon.ico HTTP/1.1\" 404 -\n",
      "172.17.51.217 - - [11/Apr/2024 16:30:24] \"GET / HTTP/1.1\" 200 -\n",
      "172.17.51.217 - - [11/Apr/2024 16:30:24] \"GET /favicon.ico HTTP/1.1\" 404 -\n",
      "172.17.51.217 - - [11/Apr/2024 16:30:33] \"GET /profile/chlwldns HTTP/1.1\" 200 -\n",
      "172.17.51.217 - - [11/Apr/2024 16:31:16] \"GET /first/chlwldns HTTP/1.1\" 200 -\n"
     ]
    }
   ],
   "source": [
    "from flask import Flask\n",
    "\n",
    "app = Flask(__name__)\n",
    "@app.route(\"/\")\n",
    "def hello():                           \n",
    "    return \"<h1>Hello World!</h1>\"\n",
    "\n",
    "@app.route(\"/profile/<username>\")\n",
    "def get_profile(username):\n",
    "    return \"profile: \" + username\n",
    "\n",
    "@app.route(\"/first/<username>\")\n",
    "def get_first(username):\n",
    "    return \"<h3>Hello \" + username + \"!</h3>\"\n",
    "\n",
    "if __name__ == \"__main__\":              \n",
    "    app.run(host=\"0.0.0.0\", port=\"8080\")"
   ]
  },
  {
   "cell_type": "markdown",
   "metadata": {},
   "source": [
    "* URI를 변수로 사용, 변수에 데이터 타입도 줄 수 있음\n",
    "  - 데이터 타입이 없으면 문자열로 인식\n",
    "  - int 이외에 float 도 데이터 타입으로 줄 수 있음\n",
    "  - 다음 코드 추가 후, http://0.0.0.0:8080/message/1 접속"
   ]
  },
  {
   "cell_type": "code",
   "execution_count": null,
   "metadata": {
    "collapsed": true
   },
   "outputs": [],
   "source": [
    "@app.route(\"/message/<int:message_id>\")\n",
    "def get_message(message_id):\n",
    "    return \"message id: \" + message_id"
   ]
  },
  {
   "cell_type": "code",
   "execution_count": 7,
   "metadata": {},
   "outputs": [
    {
     "name": "stdout",
     "output_type": "stream",
     "text": [
      " * Serving Flask app \"__main__\" (lazy loading)\n",
      " * Environment: production\n",
      "\u001b[31m   WARNING: This is a development server. Do not use it in a production deployment.\u001b[0m\n",
      "\u001b[2m   Use a production WSGI server instead.\u001b[0m\n",
      " * Debug mode: off\n"
     ]
    },
    {
     "name": "stderr",
     "output_type": "stream",
     "text": [
      " * Running on http://0.0.0.0:8080/ (Press CTRL+C to quit)\n",
      "127.0.0.1 - - [05/Aug/2020 12:01:44] \"\u001b[37mGET / HTTP/1.1\u001b[0m\" 200 -\n",
      "127.0.0.1 - - [05/Aug/2020 12:01:56] \"\u001b[37mGET /message/1 HTTP/1.1\u001b[0m\" 200 -\n",
      "127.0.0.1 - - [05/Aug/2020 12:02:22] \"\u001b[37mGET /first/1 HTTP/1.1\u001b[0m\" 200 -\n"
     ]
    }
   ],
   "source": [
    "from flask import Flask\n",
    "\n",
    "app = Flask(__name__)\n",
    "\n",
    "def add_file(data):\n",
    "    return data + 5\n",
    "\n",
    "@app.route(\"/\")\n",
    "def hello():                           \n",
    "    return \"<h1>Hello World!</h1>\"\n",
    "\n",
    "@app.route(\"/message/<int:message_id>\")\n",
    "def get_message(message_id):\n",
    "    return \"message id: %d\" % message_id   # %d 는 int, %f 는 float, %s 는 string\n",
    "\n",
    "@app.route(\"/first/<int:messageid>\")\n",
    "def get_first(messageid):\n",
    "    data = add_file(messageid)\n",
    "    return \"<h1>%d</h1>\" % (data)\n",
    "\n",
    "\n",
    "if __name__ == \"__main__\":              \n",
    "    app.run(host=\"0.0.0.0\", port=\"8080\")"
   ]
  },
  {
   "cell_type": "markdown",
   "metadata": {},
   "source": [
    "-------\n"
   ]
  },
  {
   "cell_type": "markdown",
   "metadata": {},
   "source": [
    "## flask 로 REST API 구현하기\n",
    "\n",
    "\n",
    "### HTTP(Hypertext Transfer Protocol)\n",
    "- Server/Client 모델로 Request/Response 사용\n",
    "  - Client에서 요청(Request)을 보내면, Server에서 응답(Response)을 준다.\n",
    "\n",
    "\n",
    "<center><img src=\"https://www.fun-coding.org/00_Images/web_http.png\" height=350 /></center>\n",
    "\n",
    "> 프로토콜 (protocol): 컴퓨터간 통신을 하기 위한 규칙 "
   ]
  },
  {
   "cell_type": "markdown",
   "metadata": {},
   "source": [
    "### HTTP(Hypertext Transfer Protocol) Request/Response\n",
    "\n",
    "- Request\n",
    "<center><img src=\"https://www.fun-coding.org/00_Images/http_request.png\" /></center>\n",
    "\n",
    "\n",
    "### HTTP(Hypertext Transfer Protocol) Request/Response\n",
    "\n",
    "- Response\n",
    "<center><img src=\"https://www.fun-coding.org/00_Images/http_response.png\" /></center>\n"
   ]
  },
  {
   "cell_type": "markdown",
   "metadata": {},
   "source": [
    "### REST\n",
    "- REST(REpresentational State Transfer)\n",
    "  - 자원(resource)의 표현(representation)에 의한 상태 전달\n",
    "  - HTTP URI를 통해 자원을 명시하고, HTTP Method를 통해 자원에 대한 CRUD Operation 적용\n",
    "    - CRUD Operation와 HTTP Method\n",
    "      - Create: 생성 (POST)\n",
    "      - Read: 조회 (GET)\n",
    "      - Update: 수정 (PUT)\n",
    "      - Delete: 삭제 (DELETE)\n",
    "\n",
    "### REST API\n",
    "- REST 기반으로 서비스 API를 구현한 것\n",
    "- 마이크로 서비스, OpenAPI(누구나 사용하도록 공개된 API) 등에서 많이 사용됨\n",
    "- 함수처럼 api콜을 하면 리턴값을 json값으로 돌려받을수있게 설계된 벡엔드 기술"
   ]
  },
  {
   "cell_type": "markdown",
   "metadata": {},
   "source": [
    "### flask 로 REST API 구현 방법\n",
    "- 특정한 URI를 요청하면 JSON 형식으로 데이터를 반환하도록 만들면 됨\n",
    "- 즉, 웹주소(URI) 요청에 대한 응답(Response)를 JSON 형식으로 작성\n",
    "- Flask에서는 dict(사전) 데이터를 응답 데이터로 만들고, 이를 jsonify() 메서드를 활용해서 JSON 응답 데이터로 만들 수 있음"
   ]
  },
  {
   "cell_type": "markdown",
   "metadata": {},
   "source": [
    "### REST API 테스트를 위한 준비\n",
    "\n",
    "### httpie 설치\n",
    "- https://httpie.org/\n",
    "- 윈도우\n",
    "  ```bash\n",
    "  pip install --upgrade pip setuptools\n",
    "  pip install --upgrade httpie  \n",
    "  ```\n",
    "- 맥\n",
    "  - Homebrew 가 설치 안되었다면\n",
    "    - https://brew.sh/index_ko 가이드에 따라 Homebrew 설치\n",
    "  - Homebrew 설치 후\n",
    "  ```bash\n",
    "  brew install httpie\n",
    "  ```\n",
    "  \n",
    "  > 맥에서는 터미널 프로그램으로 현업에서는 iterm2 를 많이 사용함 <br>\n",
    "  > iterm2 다운로드 및 설치는 해당 사이트 참조: https://www.iterm2.com/"
   ]
  },
  {
   "cell_type": "markdown",
   "metadata": {},
   "source": [
    "### httpie 사용법 [터미널에서 사용]\n",
    "- http HTTP메서드 URI\n",
    "  - HTTP메서드를 쓰지 않으면, 디폴트로 GET \n",
    "```bash\n",
    "http GET http://localhost:8080/json_test\n",
    "```\n",
    "\n",
    "- http -v URI\n",
    "  - 송신 HTTP 프로토콜 데이터도 함께 출력\n",
    "```bash\n",
    "http -v GET http://localhost:8080/json_test\n",
    "```"
   ]
  },
  {
   "cell_type": "markdown",
   "metadata": {},
   "source": [
    "--------------"
   ]
  },
  {
   "cell_type": "markdown",
   "metadata": {},
   "source": [
    "### REST API 구현 예제"
   ]
  },
  {
   "cell_type": "code",
   "execution_count": 4,
   "metadata": {},
   "outputs": [],
   "source": [
    "from flask import Flask, jsonify\n",
    "app = Flask(__name__)"
   ]
  },
  {
   "cell_type": "markdown",
   "metadata": {},
   "source": [
    "* data를 사전 데이터로 만들고, 이를 jsonify() 메서드에 넣어서 return 해주면 됨"
   ]
  },
  {
   "cell_type": "code",
   "execution_count": 5,
   "metadata": {},
   "outputs": [],
   "source": [
    "@app.route('/json_test')\n",
    "def hello_json():\n",
    "    data = {'name' : '김대리', 'family' : 'Byun'}\n",
    "    return jsonify(data)\n",
    "\n",
    "@app.route('/server_info')\n",
    "def server_json():\n",
    "    data = { 'server_name' : '0.0.0.0', 'server_port' : '8080' }\n",
    "    return jsonify(data)"
   ]
  },
  {
   "cell_type": "code",
   "execution_count": 6,
   "metadata": {
    "scrolled": true
   },
   "outputs": [
    {
     "name": "stdout",
     "output_type": "stream",
     "text": [
      " * Serving Flask app \"__main__\" (lazy loading)\n",
      " * Environment: production\n",
      "\u001b[31m   WARNING: This is a development server. Do not use it in a production deployment.\u001b[0m\n",
      "\u001b[2m   Use a production WSGI server instead.\u001b[0m\n",
      " * Debug mode: off\n"
     ]
    },
    {
     "name": "stderr",
     "output_type": "stream",
     "text": [
      " * Running on all addresses.\n",
      "   WARNING: This is a development server. Do not use it in a production deployment.\n",
      " * Running on http://172.17.51.217:8080/ (Press CTRL+C to quit)\n",
      "172.17.51.217 - - [11/Apr/2024 16:57:18] \"GET / HTTP/1.1\" 404 -\n",
      "172.17.51.217 - - [11/Apr/2024 16:57:18] \"GET /favicon.ico HTTP/1.1\" 404 -\n",
      "172.17.51.217 - - [11/Apr/2024 16:57:26] \"GET /json_test HTTP/1.1\" 200 -\n",
      "127.0.0.1 - - [11/Apr/2024 16:58:40] \"GET /json_test HTTP/1.1\" 200 -\n"
     ]
    }
   ],
   "source": [
    "if __name__ == \"__main__\":              \n",
    "    app.run(host=\"0.0.0.0\", port=\"8080\")"
   ]
  },
  {
   "cell_type": "markdown",
   "metadata": {},
   "source": [
    "-------------"
   ]
  },
  {
   "cell_type": "markdown",
   "metadata": {},
   "source": [
    "## 실습: 프론트엔드와 백엔드 flask 로 한번에 구현해보기(정적웹페이지 프론트 벡 구현 폴더 코드설명)\n",
    "- 정적웹페이지 프론트 벡 구현 / 기본html 폴더에 login_test.py 파일 작성\n",
    "- GET 요청으로 받는 url은 아래와 같이 코드 작성"
   ]
  },
  {
   "cell_type": "markdown",
   "metadata": {},
   "source": [
    "```python\n",
    "from flask import Flask, jsonify, request\n",
    "app = Flask(__name__)\n",
    "\n",
    "\n",
    "@app.route('/login')\n",
    "def login():\n",
    "    username = request.args.get('user_name')\n",
    "    if username == 'dave':\n",
    "        return_data = {'auth':'success'}\n",
    "    else:\n",
    "        return_data = {'auth':'failed'}\n",
    "    return jsonify(return_data)\n",
    "\n",
    "if __name__ == '__main__':\n",
    "    app.run(host=\"0.0.0.0\", port=\"8080\")\n",
    "```"
   ]
  },
  {
   "cell_type": "markdown",
   "metadata": {},
   "source": [
    "### Rest API 요청시 파라미터/파라미터값 넣기\n",
    "- HTTP 의 요청 방식 중, 가장 많이 사용되는 방식이 GET 방식\n",
    "  - GET 방식에서는 URI 상에 파라미터와 파라미터 값을 넣을 수 있음\n",
    "    - 규칙: URL?파라미터1=파라미터1값&파라미터2=파라미터2값 \n",
    "        - ex)\n",
    "    - URL 이후 첫 파라미터 이름 전에 ? 를 표시하고, 추가 파라미터가 있을 시에는 & 표시를 해야 함\n"
   ]
  },
  {
   "cell_type": "markdown",
   "metadata": {
    "collapsed": true
   },
   "source": [
    "### 프론트엔드, HTML 코드와 연계해서 구현해보기\n",
    "- Visual Studio Code 에 Emmet 기능이 구현되어 있음\n",
    "  - Emmet 기능은 특정 약어로 템플릿 코드 생성\n",
    "  \n",
    "  ```\n",
    "  html:5 라고 쓰고 <탭 키> 를 누르면 HTML5 기본 템플릿 생성\n",
    "  ```\n",
    "\n",
    "> HTML 기본적인 부분은 파이썬 기초와 크롤링 부트캠프 강의에서 다룬 부분을 참조! <br>\n",
    "> 매우 상세한 HTML/CSS 코드 작성은 프론트엔드 과정에서 설명 예정 (백엔드 flask 에 집중!)"
   ]
  },
  {
   "cell_type": "markdown",
   "metadata": {},
   "source": [
    "### 폴더 구조를 다음과 생성하고, login.html 생성\n",
    "\n",
    "```\n",
    "/login_test.py\n",
    "/templates\n",
    "    /login.html\n",
    "```"
   ]
  },
  {
   "cell_type": "markdown",
   "metadata": {
    "collapsed": true
   },
   "source": [
    "```html\n",
    "<!DOCTYPE html>\n",
    "<html lang=\"en\">\n",
    "  <head>\n",
    "    <meta charset=\"UTF-8\" />\n",
    "    <meta name=\"viewport\" content=\"width=device-width, initial-scale=1.0\" />\n",
    "    <title>Document</title>\n",
    "  </head>\n",
    "  <body>\n",
    "    <form action=\"/login\" method=\"get\">\n",
    "      <p>Enter Name:</p>\n",
    "      <p><input type=\"text\" name=\"user_name\" /></p>\n",
    "      <p><input type=\"submit\" value=\"submit\" /></p>\n",
    "    </form>\n",
    "  </body>\n",
    "</html>\n",
    "```"
   ]
  },
  {
   "cell_type": "markdown",
   "metadata": {},
   "source": [
    "### flask 로 정적 웹페이지 로드하기 \n",
    "> 프론트엔드 페이지도 flask 로 보여줄 수 있음\n",
    "\n",
    "- flask render_template(HTML파일명): HTML 파일 전송하기\n",
    "  - HTML파일은 flask 가 실행되는 하위 폴더인 templates 폴더 안에 위치해야 함"
   ]
  },
  {
   "cell_type": "markdown",
   "metadata": {},
   "source": [
    "```python\n",
    "@app.route('/html_test')\n",
    "def hello_html():\n",
    "    # html file은 templates 폴더에 위치해야 함\n",
    "    return render_template('login.html')\n",
    "```"
   ]
  },
  {
   "cell_type": "markdown",
   "metadata": {},
   "source": [
    "### login_test.py 파일 업데이트\n",
    "- flask 의 render_template 함수 추가\n",
    "- @app.route('html_test') 추가"
   ]
  },
  {
   "cell_type": "markdown",
   "metadata": {},
   "source": [
    "```python\n",
    "from flask import Flask, jsonify, request, render_template\n",
    "app = Flask(__name__)\n",
    "\n",
    "\n",
    "@app.route('/login')\n",
    "def login():\n",
    "    username = request.args.get('user_name')\n",
    "    if username == 'dave':\n",
    "        return_data = {'auth': 'success'}\n",
    "    else:\n",
    "        return_data = {'auth': 'failed'}\n",
    "    return jsonify(return_data)\n",
    "\n",
    "\n",
    "@app.route('/html_test')\n",
    "def hello_html():\n",
    "    # html file은 templates 폴더에 위치해야 함\n",
    "    return render_template('login.html')\n",
    "\n",
    "\n",
    "if __name__ == '__main__':\n",
    "    app.run(host=\"0.0.0.0\", port=\"8080\")\n",
    "```"
   ]
  },
  {
   "cell_type": "markdown",
   "metadata": {},
   "source": [
    "-------------"
   ]
  },
  {
   "cell_type": "markdown",
   "metadata": {},
   "source": [
    "### bootstrap 과 static_url_path 활용 벡엔드 구현\n",
    "\n",
    "- 정적웹페이지 프론트 벡 구현/bootstrap활용구현 폴더\n",
    "\n"
   ]
  },
  {
   "cell_type": "markdown",
   "metadata": {},
   "source": [
    "### flask 로 정적 페이지 로드시, 경로를 찾지 못함\n",
    "- 가장 합리적인 방법은 static_url_path 를 flask 객체 생성시 선언해주는 것임\n",
    "```\n",
    "from flask import Flask, jsonify, request, render_template\n",
    "app = Flask(__name__, static_url_path='/static')\n",
    "```\n",
    "\n",
    "- html 상의 경로 변경\n",
    "```html\n",
    "<link rel=\"canonical\" href=\"https://getbootstrap.com/docs/4.5/examples/sign-in/\" />\n",
    "<link href=\"/static/dist/css/bootstrap.min.css\" rel=\"stylesheet\" />\n",
    "```\n",
    "\n"
   ]
  }
 ],
 "metadata": {
  "kernelspec": {
   "display_name": "Python 3 (ipykernel)",
   "language": "python",
   "name": "python3"
  },
  "language_info": {
   "codemirror_mode": {
    "name": "ipython",
    "version": 3
   },
   "file_extension": ".py",
   "mimetype": "text/x-python",
   "name": "python",
   "nbconvert_exporter": "python",
   "pygments_lexer": "ipython3",
   "version": "3.9.13"
  },
  "nbTranslate": {
   "displayLangs": [
    "*"
   ],
   "hotkey": "alt-t",
   "langInMainMenu": true,
   "sourceLang": "en",
   "targetLang": "fr",
   "useGoogleTranslate": true
  }
 },
 "nbformat": 4,
 "nbformat_minor": 2
}
