{
 "cells": [
  {
   "cell_type": "markdown",
   "metadata": {},
   "source": [
    "## 예제 사이트 : https://davelee-fun.github.io/trial/board/news.html  \n",
    "## 크롤링+전처리+엑셀파일저장 자동화 실습프로젝트"
   ]
  },
  {
   "cell_type": "markdown",
   "metadata": {},
   "source": [
    "### 1번문제: 게시물제목 전부 출력(단 제목이 없는것은 제외)"
   ]
  },
  {
   "cell_type": "code",
   "execution_count": 1,
   "metadata": {},
   "outputs": [
    {
     "name": "stdout",
     "output_type": "stream",
     "text": [
      "KT, MS 투인원 랩톱 '서피스 프로9 5G' 단독 출시\n",
      "NIO, 차량가격 인하 및 배터리스왑 옵션으로 분리\n",
      "삼성전자, 게이밍 모니터 ‘오디세이 OLED G9’ 출시\n",
      "'애플, M3 15인치 맥북에어 개발…내년 출시'\n",
      "ChatGPT의 독일 교회 설교에 300명이 참석\n",
      "엑스박스 시리즈 S 1TB 모델 발표, 349달러\n",
      "애플,아이폰을 반려동물 추적 카메라로 바꾸고 싶어해\n",
      "애플, 개발자가 Windows 게임을 Mac으로 이식하는 데 도움이 되는 도구 출시\n",
      "M2 울트라,벤치마크에서 M1 울트라에 비해 성능이 향상된 것으로 나타나\n",
      "애플 비전 프로 개발자 키트 애플리케이션 7월에 출시될 예정\n",
      "ChatGPT는 25개 농담만 할 수 있고, 새 농담을 생각해낼 수 없다는 연구 결과\n",
      "미국 비밀번호 공유 단속이 시작되자 넷플릭스 구독자 수 증가\n",
      "인텔, 개발자용 폰트 Intel One Mono 오픈 소스로 공개\n",
      "‘블루투스 실명제’ 도입한다는 중국\n",
      "빙 챗, 데스크탑 엣지 브라우저에서 음성으로 질문 지원 (한국어 아직 미지원)\n",
      "EV충전업체 3곳 테슬라충전규격 지원 발표\n",
      "Apple Vision Pro: 3800x3000 픽셀 및 90/96Hz의 마이크로 OLED – 패러다임 전환\n",
      "개인정보 문제로 10년 이상 업데이트 중단된 독일 구글 스트리트 뷰 복귀\n",
      "구글 비밀번호 관리자, 데스크탑용에 생체 인증 추가 예고\n",
      "데스크탑 GPU 판매량 10년만에 최저치 기록\n",
      "샘 올트먼 '한국에 오픈AI 사무소 열고 싶어…파트너십 지원'\n",
      "레딧 서드파티 앱 Apollo 등 여러 앱 서비스 종료 / 12일 레딧 상대로 단체 항의 예정\n",
      "삼성, 챗GPT 대항마 개발 나섰다\n",
      "GM, 포드에 이어 테슬라 충전규격 도입\n",
      "테슬라, 사이버트럭 연37만5천대분 부품 발주\n",
      "구글 바드, 프로그래밍 능력 향상 업데이트 공지\n",
      "Apple Developer 사이트 내 'tmoney' Payment networks Beta 추가\n",
      "워드프레스가 블로그 글을 대신 써 주는 AI 도구 발표\n",
      "[약후] 일본 첫 AI 그라비아 사진집, '검토가 부족했다'면서 7일 판매 종료\n",
      "ChatGPT iOS용 앱, 아이패드와 단축어 통합 지원 추가\n"
     ]
    }
   ],
   "source": [
    "import requests\n",
    "from bs4 import BeautifulSoup\n",
    "\n",
    "res = requests.get('https://davelee-fun.github.io/trial/board/news.html') #웹사이트 get request\n",
    "soup = BeautifulSoup(res.content, 'html.parser') #html 파싱\n",
    "items = soup.select_one('div.list_content') \n",
    "title= items.select('span.subject_fixed')\n",
    "for item in title:\n",
    "    if item.get_text() != None:\n",
    "        print(item.get_text().strip())\n",
    "    "
   ]
  },
  {
   "cell_type": "markdown",
   "metadata": {},
   "source": [
    "### 2번문제: 타이틀 번호 추가하기"
   ]
  },
  {
   "cell_type": "code",
   "execution_count": 2,
   "metadata": {},
   "outputs": [
    {
     "name": "stdout",
     "output_type": "stream",
     "text": [
      "1  KT, MS 투인원 랩톱 '서피스 프로9 5G' 단독 출시\n",
      "2  NIO, 차량가격 인하 및 배터리스왑 옵션으로 분리\n",
      "3  삼성전자, 게이밍 모니터 ‘오디세이 OLED G9’ 출시\n",
      "4  '애플, M3 15인치 맥북에어 개발…내년 출시'\n",
      "5  ChatGPT의 독일 교회 설교에 300명이 참석\n",
      "6  엑스박스 시리즈 S 1TB 모델 발표, 349달러\n",
      "7  애플,아이폰을 반려동물 추적 카메라로 바꾸고 싶어해\n",
      "8  애플, 개발자가 Windows 게임을 Mac으로 이식하는 데 도움이 되는 도구 출시\n",
      "9  M2 울트라,벤치마크에서 M1 울트라에 비해 성능이 향상된 것으로 나타나\n",
      "10  애플 비전 프로 개발자 키트 애플리케이션 7월에 출시될 예정\n",
      "11  ChatGPT는 25개 농담만 할 수 있고, 새 농담을 생각해낼 수 없다는 연구 결과\n",
      "12  미국 비밀번호 공유 단속이 시작되자 넷플릭스 구독자 수 증가\n",
      "13  인텔, 개발자용 폰트 Intel One Mono 오픈 소스로 공개\n",
      "14  ‘블루투스 실명제’ 도입한다는 중국\n",
      "15  빙 챗, 데스크탑 엣지 브라우저에서 음성으로 질문 지원 (한국어 아직 미지원)\n",
      "16  EV충전업체 3곳 테슬라충전규격 지원 발표\n",
      "17  Apple Vision Pro: 3800x3000 픽셀 및 90/96Hz의 마이크로 OLED – 패러다임 전환\n",
      "18  개인정보 문제로 10년 이상 업데이트 중단된 독일 구글 스트리트 뷰 복귀\n",
      "19  구글 비밀번호 관리자, 데스크탑용에 생체 인증 추가 예고\n",
      "20  데스크탑 GPU 판매량 10년만에 최저치 기록\n",
      "21  샘 올트먼 '한국에 오픈AI 사무소 열고 싶어…파트너십 지원'\n",
      "22  레딧 서드파티 앱 Apollo 등 여러 앱 서비스 종료 / 12일 레딧 상대로 단체 항의 예정\n",
      "23  삼성, 챗GPT 대항마 개발 나섰다\n",
      "24  GM, 포드에 이어 테슬라 충전규격 도입\n",
      "25  테슬라, 사이버트럭 연37만5천대분 부품 발주\n",
      "26  구글 바드, 프로그래밍 능력 향상 업데이트 공지\n",
      "27  Apple Developer 사이트 내 'tmoney' Payment networks Beta 추가\n",
      "28  워드프레스가 블로그 글을 대신 써 주는 AI 도구 발표\n",
      "29  [약후] 일본 첫 AI 그라비아 사진집, '검토가 부족했다'면서 7일 판매 종료\n",
      "30  ChatGPT iOS용 앱, 아이패드와 단축어 통합 지원 추가\n"
     ]
    }
   ],
   "source": [
    "import requests\n",
    "from bs4 import BeautifulSoup\n",
    "\n",
    "res = requests.get('https://davelee-fun.github.io/trial/board/news.html') #웹사이트 get request\n",
    "soup = BeautifulSoup(res.content, 'html.parser') #html 파싱\n",
    "items = soup.select_one('div.list_content') \n",
    "title= items.select('span.subject_fixed')\n",
    "index=1\n",
    "for item in title:\n",
    "    if item.get_text() != None:\n",
    "        print(index,'', item.get_text().strip())\n",
    "    index+=1"
   ]
  },
  {
   "cell_type": "markdown",
   "metadata": {},
   "source": [
    "### 3번문제: 타이틀별 댓글 수 추가하기"
   ]
  },
  {
   "cell_type": "code",
   "execution_count": 10,
   "metadata": {},
   "outputs": [
    {
     "name": "stdout",
     "output_type": "stream",
     "text": [
      "1 KT, MS 투인원 랩톱 '서피스 프로9 5G' 단독 출시 1\n",
      "2 NIO, 차량가격 인하 및 배터리스왑 옵션으로 분리 2\n",
      "3 삼성전자, 게이밍 모니터 ‘오디세이 OLED G9’ 출시 6\n",
      "4 '애플, M3 15인치 맥북에어 개발…내년 출시' 7\n",
      "5 ChatGPT의 독일 교회 설교에 300명이 참석 8\n",
      "6 엑스박스 시리즈 S 1TB 모델 발표, 349달러 8\n",
      "7 애플,아이폰을 반려동물 추적 카메라로 바꾸고 싶어해 16\n",
      "8 애플, 개발자가 Windows 게임을 Mac으로 이식하는 데 도움이 되는 도구 출시 31\n",
      "9 M2 울트라,벤치마크에서 M1 울트라에 비해 성능이 향상된 것으로 나타나 18\n",
      "10 애플 비전 프로 개발자 키트 애플리케이션 7월에 출시될 예정 2\n",
      "11 ChatGPT는 25개 농담만 할 수 있고, 새 농담을 생각해낼 수 없다는 연구 결과 16\n",
      "12 미국 비밀번호 공유 단속이 시작되자 넷플릭스 구독자 수 증가 22\n",
      "13 인텔, 개발자용 폰트 Intel One Mono 오픈 소스로 공개 39\n",
      "14 ‘블루투스 실명제’ 도입한다는 중국 37\n",
      "15 빙 챗, 데스크탑 엣지 브라우저에서 음성으로 질문 지원 (한국어 아직 미지원) 9\n",
      "16 EV충전업체 3곳 테슬라충전규격 지원 발표 45\n",
      "17 Apple Vision Pro: 3800x3000 픽셀 및 90/96Hz의 마이크로 OLED – 패러다임 전환 69\n",
      "18 개인정보 문제로 10년 이상 업데이트 중단된 독일 구글 스트리트 뷰 복귀 7\n",
      "19 구글 비밀번호 관리자, 데스크탑용에 생체 인증 추가 예고 8\n",
      "20 데스크탑 GPU 판매량 10년만에 최저치 기록 52\n",
      "21 샘 올트먼 '한국에 오픈AI 사무소 열고 싶어…파트너십 지원' 7\n",
      "22 레딧 서드파티 앱 Apollo 등 여러 앱 서비스 종료 / 12일 레딧 상대로 단체 항의 예정 8\n",
      "23 삼성, 챗GPT 대항마 개발 나섰다 94\n",
      "24 GM, 포드에 이어 테슬라 충전규격 도입 46\n",
      "25 테슬라, 사이버트럭 연37만5천대분 부품 발주 9\n",
      "26 구글 바드, 프로그래밍 능력 향상 업데이트 공지 1\n",
      "27 Apple Developer 사이트 내 'tmoney' Payment networks Beta 추가 30\n",
      "28 워드프레스가 블로그 글을 대신 써 주는 AI 도구 발표 4\n",
      "29 [약후] 일본 첫 AI 그라비아 사진집, '검토가 부족했다'면서 7일 판매 종료 16\n",
      "30 ChatGPT iOS용 앱, 아이패드와 단축어 통합 지원 추가 4\n"
     ]
    }
   ],
   "source": [
    "import requests\n",
    "from bs4 import BeautifulSoup\n",
    "\n",
    "res = requests.get('https://davelee-fun.github.io/trial/board/news.html') #웹사이트 get request\n",
    "soup = BeautifulSoup(res.content, 'html.parser') #html 파싱\n",
    "items = soup.select_one('div.list_content') \n",
    "title= items.select('span.subject_fixed')\n",
    "numbers_of_replies= items.select('span.rSymph05')\n",
    "if len(title)==len(numbers_of_replies):\n",
    "    for i in range(0,len(title)):\n",
    "    \n",
    "        print(i+1, title[i].get_text().strip(), numbers_of_replies[i].get_text().strip())"
   ]
  },
  {
   "cell_type": "markdown",
   "metadata": {},
   "source": [
    "### 4번문제: 타이틀별 링크 추가하기"
   ]
  },
  {
   "cell_type": "code",
   "execution_count": 6,
   "metadata": {},
   "outputs": [
    {
     "name": "stdout",
     "output_type": "stream",
     "text": [
      "1 KT, MS 투인원 랩톱 '서피스 프로9 5G' 단독 출시 1 news/18129892%EF%B9%96od=T31&po=0&category=0&groupCd=.html\n",
      "2 NIO, 차량가격 인하 및 배터리스왑 옵션으로 분리 2 news/18129728%EF%B9%96od=T31&po=0&category=0&groupCd=.html\n",
      "3 삼성전자, 게이밍 모니터 ‘오디세이 OLED G9’ 출시 6 news/18129714%EF%B9%96od=T31&po=0&category=0&groupCd=.html\n",
      "4 '애플, M3 15인치 맥북에어 개발…내년 출시' 7 news/18129670%EF%B9%96od=T31&po=0&category=0&groupCd=.html\n",
      "5 ChatGPT의 독일 교회 설교에 300명이 참석 8 news/18129570%EF%B9%96od=T31&po=0&category=0&groupCd=.html\n",
      "6 엑스박스 시리즈 S 1TB 모델 발표, 349달러 8 news/18129332%EF%B9%96od=T31&po=0&category=0&groupCd=.html\n",
      "7 애플,아이폰을 반려동물 추적 카메라로 바꾸고 싶어해 16 news/18129205%EF%B9%96od=T31&po=0&category=0&groupCd=.html\n",
      "8 애플, 개발자가 Windows 게임을 Mac으로 이식하는 데 도움이 되는 도구 출시 31 news/18129200%EF%B9%96od=T31&po=0&category=0&groupCd=.html\n",
      "9 M2 울트라,벤치마크에서 M1 울트라에 비해 성능이 향상된 것으로 나타나 18 news/18129193%EF%B9%96od=T31&po=0&category=0&groupCd=.html\n",
      "10 애플 비전 프로 개발자 키트 애플리케이션 7월에 출시될 예정 2 news/18129189%EF%B9%96od=T31&po=0&category=0&groupCd=.html\n",
      "11 ChatGPT는 25개 농담만 할 수 있고, 새 농담을 생각해낼 수 없다는 연구 결과 16 news/18128818%EF%B9%96od=T31&po=0&category=0&groupCd=.html\n",
      "12 미국 비밀번호 공유 단속이 시작되자 넷플릭스 구독자 수 증가 22 news/18128602%EF%B9%96od=T31&po=0&category=0&groupCd=.html\n",
      "13 인텔, 개발자용 폰트 Intel One Mono 오픈 소스로 공개 39 news/18128012%EF%B9%96od=T31&po=0&category=0&groupCd=.html\n",
      "14 ‘블루투스 실명제’ 도입한다는 중국 37 news/18127891%EF%B9%96od=T31&po=0&category=0&groupCd=.html\n",
      "15 빙 챗, 데스크탑 엣지 브라우저에서 음성으로 질문 지원 (한국어 아직 미지원) 9 news/18127399%EF%B9%96od=T31&po=0&category=0&groupCd=.html\n",
      "16 EV충전업체 3곳 테슬라충전규격 지원 발표 45 news/18126686%EF%B9%96od=T31&po=0&category=0&groupCd=.html\n",
      "17 Apple Vision Pro: 3800x3000 픽셀 및 90/96Hz의 마이크로 OLED – 패러다임 전환 69 news/18126504%EF%B9%96od=T31&po=0&category=0&groupCd=.html\n",
      "18 개인정보 문제로 10년 이상 업데이트 중단된 독일 구글 스트리트 뷰 복귀 7 news/18126183%EF%B9%96od=T31&po=0&category=0&groupCd=.html\n",
      "19 구글 비밀번호 관리자, 데스크탑용에 생체 인증 추가 예고 8 news/18125653%EF%B9%96od=T31&po=0&category=0&groupCd=.html\n",
      "20 데스크탑 GPU 판매량 10년만에 최저치 기록 52 news/18125230%EF%B9%96od=T31&po=0&category=0&groupCd=.html\n",
      "21 샘 올트먼 '한국에 오픈AI 사무소 열고 싶어…파트너십 지원' 7 news/18125069%EF%B9%96od=T31&po=0&category=0&groupCd=.html\n",
      "22 레딧 서드파티 앱 Apollo 등 여러 앱 서비스 종료 / 12일 레딧 상대로 단체 항의 예정 8 news/18125032%EF%B9%96od=T31&po=0&category=0&groupCd=.html\n",
      "23 삼성, 챗GPT 대항마 개발 나섰다 94 news/18124830%EF%B9%96od=T31&po=0&category=0&groupCd=.html\n",
      "24 GM, 포드에 이어 테슬라 충전규격 도입 46 news/18124539%EF%B9%96od=T31&po=0&category=0&groupCd=.html\n",
      "25 테슬라, 사이버트럭 연37만5천대분 부품 발주 9 news/18124536%EF%B9%96od=T31&po=0&category=0&groupCd=.html\n",
      "26 구글 바드, 프로그래밍 능력 향상 업데이트 공지 1 news/18124318%EF%B9%96od=T31&po=0&category=0&groupCd=.html\n",
      "27 Apple Developer 사이트 내 'tmoney' Payment networks Beta 추가 30 news/18124161%EF%B9%96od=T31&po=0&category=0&groupCd=.html\n",
      "28 워드프레스가 블로그 글을 대신 써 주는 AI 도구 발표 4 news/18123931%EF%B9%96od=T31&po=0&category=0&groupCd=.html\n",
      "29 [약후] 일본 첫 AI 그라비아 사진집, '검토가 부족했다'면서 7일 판매 종료 16 news/18123900%EF%B9%96od=T31&po=0&category=0&groupCd=.html\n",
      "30 ChatGPT iOS용 앱, 아이패드와 단축어 통합 지원 추가 4 news/18123819%EF%B9%96od=T31&po=0&category=0&groupCd=.html\n"
     ]
    }
   ],
   "source": [
    "import requests\n",
    "from bs4 import BeautifulSoup\n",
    "\n",
    "res = requests.get('https://davelee-fun.github.io/trial/board/news.html') #웹사이트 get request\n",
    "soup = BeautifulSoup(res.content, 'html.parser') #html 파싱\n",
    "items = soup.select_one('div.list_content') \n",
    "link=items.select('a.list_subject')\n",
    "title= items.select('span.subject_fixed')\n",
    "numbers_of_replies= items.select('span.rSymph05')\n",
    "if len(title)==len(numbers_of_replies):\n",
    "    for i in range(0,len(title)):\n",
    "        links=link[i]\n",
    "        print(i+1, title[i].get_text().strip(), numbers_of_replies[i].get_text().strip(),  links['href'])"
   ]
  },
  {
   "cell_type": "markdown",
   "metadata": {},
   "source": [
    "### 5번문제: 타이틀별 댓글 가져와서 출력하기  \n",
    "### 링크타고 다른 페이지 들어가서 크롤링한것을 한번에 출력 -> 페이지를 두번 get호출(using by url(원래)+link)"
   ]
  },
  {
   "cell_type": "code",
   "execution_count": null,
   "metadata": {},
   "outputs": [],
   "source": [
    "import requests\n",
    "from bs4 import BeautifulSoup\n",
    "\n",
    "res = requests.get('https://davelee-fun.github.io/trial/board/news.html') #웹사이트 get request\n",
    "soup = BeautifulSoup(res.content, 'html.parser') #html 파싱\n",
    "items = soup.select_one('div.list_content') \n",
    "link=items.select('a.list_subject')\n",
    "title= items.select('span.subject_fixed')\n",
    "#re= items.select('span.rSymph05')\n",
    "if len(title)==len(numbers_of_replies):\n",
    "    for i in range(0,5):\n",
    "        j=0\n",
    "        links=link[i]\n",
    "        print(i+1, title[i].get_text().strip(), numbers_of_replies[i].get_text().strip())\n",
    "        "
   ]
  }
 ],
 "metadata": {
  "kernelspec": {
   "display_name": "base",
   "language": "python",
   "name": "python3"
  },
  "language_info": {
   "codemirror_mode": {
    "name": "ipython",
    "version": 3
   },
   "file_extension": ".py",
   "mimetype": "text/x-python",
   "name": "python",
   "nbconvert_exporter": "python",
   "pygments_lexer": "ipython3",
   "version": "3.9.13"
  }
 },
 "nbformat": 4,
 "nbformat_minor": 2
}
