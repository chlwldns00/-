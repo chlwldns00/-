{
 "cells": [
  {
   "cell_type": "markdown",
   "metadata": {},
   "source": [
    "## Open API(Rest API)를 활용한 크롤링\n",
    "\n",
    "### Open API(Rest API)란?\n",
    " - **API:** Application Programming Interface의 약자로, 특정 프로그램을 만들기 위해 제공되는 모듈(함수 등)을 의미\n",
    " - **Open API:** 공개 API라고도 불리우며, 누구나 사용할 수 있도록 공개된 API (주로 Rest API 기술을 많이 사용함)\n",
    " - **Rest API:** Representational State Transfer API의 약자로, HTTP프로토콜을 통해 서버 제공 기능을 사용할 수 있는 함수를 의미\n",
    "   - 일반적으로 XML, JSON의 형태로 응답을 전달(원하는 데이터 추출이 수월)\n",
    "   - [참고 - RestAPI란](http://hyunalee.tistory.com/1)"
   ]
  },
  {
   "cell_type": "markdown",
   "metadata": {},
   "source": [
    "### JSON 이란?\n",
    " - JavaScript Object Notation 줄임말\n",
    " - 웹환경에서 서버와 클라이언트 사이에 데이터를 주고 받을때 많이 사용\n",
    "   - Rest API가 주요한 예제\n",
    " - JSON 포멧 예 <br>\n",
    " { \"id\":\"01\", \"language\": \"Java\", \"edition\": \"third\", \"author\": \"Herbert Schildt\" }\n",
    " <br>\n",
    " <br>\n",
    " \n",
    " - 참고 (https://books.google.co.kr/books?id=euSiAwAAQBAJ&pg=PT1755&lpg=PT1755&dq=json+%EC%9E%A5%EC%A0%90&source=bl&ots=VjTIoOjbTK&sig=3t7MXA7g2CvEi8SyD0-GQVywzw0&hl=ko&sa=X&ved=0ahUKEwiwo8OvxJfWAhXDsJQKHYaBDpI4ChDoAQhVMAg#v=onepage&q=json%20%EC%9E%A5%EC%A0%90&f=false)\n",
    "\n",
    " 출처: http://dpug.tistory.com/67#.WbycWshJaUk [퍼그의 전초기지]"
   ]
  },
  {
   "cell_type": "markdown",
   "metadata": {},
   "source": [
    "### 네이버 검색 Open API를 이용한 크롤링 초간단 실습\n",
    " - https://developers.naver.com/main/\n",
    " - [블로그 검색 가이드 문서](https://developers.naver.com/docs/search/blog/)\n",
    "   - 네이버 Open API 이용신청 [참고](http://hnark.tistory.com/135)"
   ]
  },
  {
   "cell_type": "markdown",
   "metadata": {},
   "source": [
    "- postman 설치 (https://www.getpostman.com/downloads/) \n",
    "  - (상세 가이드: http://www.a-mean-blog.com/ko/blog/Node-JS-API/_/API-%ED%85%8C%EC%8A%A4%ED%8A%B8-%ED%94%84%EB%A1%9C%EA%B7%B8%EB%9E%A8-Postman-%EC%84%A4%EC%B9%98%EB%B0%8F-%EA%B0%84%EB%8B%A8-%EC%82%AC%EC%9A%A9%EB%B2%95)\n",
    "\n",
    "- 사용법\n",
    "   1. Sign Up in Postman\n",
    "   2. Insert https://openapi.naver.com/v1/search/news.json?query=스마트 into GET\n",
    "   3. Add X-Naver-Client-Id(key), <font color=\"blue\">CsODwdUTyG9vOI1uIeIf</font>(value) into Headers\n",
    "   4. Add X-Naver-Client-Secret(key), <font color=\"blue\">YmIx0GW8JG</font>(value) into Headers\n",
    "   5. Send\n",
    "   <img src=\"postman.png\" />"
   ]
  },
  {
   "cell_type": "markdown",
   "metadata": {},
   "source": [
    "- [참고: 네이버 Open API HTTP 응답 상태 에러 코드 목록1](https://developers.naver.com/docs/common/openapiguide/#/errorcode.md)\n",
    "- [참고: 일반적인 HTTP 응답 상태 코드](http://ooz.co.kr/260) "
   ]
  },
  {
   "cell_type": "markdown",
   "metadata": {},
   "source": [
    "### 네이버 Open API 사용하기"
   ]
  },
  {
   "cell_type": "code",
   "execution_count": null,
   "metadata": {},
   "outputs": [
    {
     "name": "stdout",
     "output_type": "stream",
     "text": [
      "1 삼성전자 갤럭시탭10.1 SHW-M380S/K/W <b>갤럭시노트10</b>. https://search.shopping.naver.com/gate.nhn?id=15705550514\n",
      "2 삼성 <b>Galaxy Note 10</b>.1 GT-N8010EAADBT WiFi only (25,7 cm (10,1 Zoll) 태블릿 (Quad-core, 1,4GHz, 16GB inter https://search.shopping.naver.com/gate.nhn?id=15816182521\n",
      "3 삼성 <b>Galaxy Note 10</b>.1 GT-N8010ZWADBT WiFi only (25,7 cm (10,1 Zoll) 태블릿 (Quad-core, 1,4GHz, 16GB inter https://search.shopping.naver.com/gate.nhn?id=15815943909\n",
      "4 [헤븐엠]<b>10</b> 1 <b>Galaxy NOTE</b> 32 GB (GT-N8013EAVXAR) - https://search.shopping.naver.com/gate.nhn?id=7922959881\n",
      "5 삼성 <b>갤럭시 노트</b> 프로 12.2 SM-P900 SM-P901 SM-905 태블릿에 대 한 <b>10</b>FT USB 3.0 마이크로 B 데이터 동기화 충전기 케이블 코드 https://search.shopping.naver.com/gate.nhn?id=17620695866\n",
      "6 C19560 TD019560 <b>갤럭시노트 10</b> 1LTE E230 태블릿 방탄필름 https://search.shopping.naver.com/gate.nhn?id=19249611936\n",
      "7 삼성전자 <b>갤럭시 노트 10</b>.1 (2014년형) 16G https://search.shopping.naver.com/gate.nhn?id=16958447459\n",
      "8 Samsung SAM-EP-TA<b>10</b>JWE 삼성 전자 갤럭시 S5, <b>갤럭시 노트</b> 3 용 Universal OEM 2.0 Amp, 5.3V 휴대용 충전기 어댑터 - 백색 https://search.shopping.naver.com/gate.nhn?id=17620722278\n",
      "9 <b>갤럭시노트 10</b> 1LTE E230 태블릿 방탄필름 https://search.shopping.naver.com/gate.nhn?id=18453091202\n",
      "10 JNL734729<b>갤럭시노트 10</b> 1LTE E230 태블릿 방탄필름 https://search.shopping.naver.com/gate.nhn?id=19503829633\n"
     ]
    }
   ],
   "source": [
    "import requests\n",
    "import pprint\n",
    "import os\n",
    "import sys\n",
    "import urllib.request\n",
    "\n",
    "client_id = 'BTMVavws8Is7jmVpUcSL'\n",
    "client_secret = 'sDgiapg86l'\n",
    "\n",
    "# query=urllib.parse.quote('입력할단어') #query검색 입력받는 코드\n",
    "\n",
    "naver_open_api = 'https://openapi.naver.com/v1/search/shop.json?query=갤럭시노트10' # +query\n",
    "header_params = {\"X-Naver-Client-Id\":client_id, \"X-Naver-Client-Secret\":client_secret}\n",
    "res = requests.get(naver_open_api, headers=header_params)\n",
    "\n",
    "if res.status_code == 200:\n",
    "    data = res.json()\n",
    "    # pprint.print(data)  형식적 출력\n",
    "    for index, item in enumerate(data['items']):\n",
    "        print (index + 1, item['title'], item['link'])\n",
    "else:\n",
    "    print (\"Error Code:\", res.status_code)"
   ]
  },
  {
   "cell_type": "markdown",
   "metadata": {},
   "source": [
    "### 엑셀파일로 크롤링데이터 저장(랭킹순,제목,링크 데이터 크롤링)"
   ]
  },
  {
   "cell_type": "code",
   "execution_count": 73,
   "metadata": {},
   "outputs": [],
   "source": [
    "import requests\n",
    "import openpyxl\n",
    "\n",
    "client_id = 'BTMVavws8Is7jmVpUcSL'\n",
    "client_secret = 'sDgiapg86l'\n",
    "start, num = 1, 0\n",
    "\n",
    "excel_file = openpyxl.Workbook()\n",
    "excel_sheet = excel_file.active\n",
    "excel_sheet.column_dimensions['B'].width = 100\n",
    "excel_sheet.column_dimensions['C'].width = 100\n",
    "excel_sheet.append(['랭킹', '제목', '링크'])\n",
    "\n",
    "for index in range(10):\n",
    "    start_number = start + (index * 100)\n",
    "    naver_open_api = 'https://openapi.naver.com/v1/search/shop.json?query=샤오미&display=100&start=' + str(start_number) #display 파라미터에 시작번호를 입력하여 시작번호~100개씩 입력받는다.\n",
    "    header_params = {\"X-Naver-Client-Id\":client_id, \"X-Naver-Client-Secret\":client_secret}\n",
    "    res = requests.get(naver_open_api, headers=header_params)\n",
    "    if res.status_code == 200:\n",
    "        data = res.json()\n",
    "        for item in data['items']:\n",
    "            num += 1\n",
    "            excel_sheet.append([num, item['title'], item['link']])\n",
    "    else:\n",
    "        print (\"Error Code:\", res.status_code)\n",
    "\n",
    "excel_file.save('IT.xlsx')\n",
    "excel_file.close()"
   ]
  }
 ],
 "metadata": {
  "kernelspec": {
   "display_name": "Python 3 (ipykernel)",
   "language": "python",
   "name": "python3"
  },
  "language_info": {
   "codemirror_mode": {
    "name": "ipython",
    "version": 3
   },
   "file_extension": ".py",
   "mimetype": "text/x-python",
   "name": "python",
   "nbconvert_exporter": "python",
   "pygments_lexer": "ipython3",
   "version": "3.11.4"
  },
  "nbTranslate": {
   "displayLangs": [
    "*"
   ],
   "hotkey": "alt-t",
   "langInMainMenu": true,
   "sourceLang": "en",
   "targetLang": "fr",
   "useGoogleTranslate": true
  }
 },
 "nbformat": 4,
 "nbformat_minor": 1
}
