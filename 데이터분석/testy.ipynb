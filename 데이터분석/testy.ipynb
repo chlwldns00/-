{
 "cells": [
  {
   "cell_type": "markdown",
   "metadata": {},
   "source": [
    "## 데이터로드\n"
   ]
  },
  {
   "cell_type": "code",
   "execution_count": 5,
   "metadata": {},
   "outputs": [
    {
     "data": {
      "text/html": [
       "<div>\n",
       "<style scoped>\n",
       "    .dataframe tbody tr th:only-of-type {\n",
       "        vertical-align: middle;\n",
       "    }\n",
       "\n",
       "    .dataframe tbody tr th {\n",
       "        vertical-align: top;\n",
       "    }\n",
       "\n",
       "    .dataframe thead th {\n",
       "        text-align: right;\n",
       "    }\n",
       "</style>\n",
       "<table border=\"1\" class=\"dataframe\">\n",
       "  <thead>\n",
       "    <tr style=\"text-align: right;\">\n",
       "      <th></th>\n",
       "      <th>ZEROP11000</th>\n",
       "      <th>202008</th>\n",
       "      <th>11</th>\n",
       "      <th>서울특별시</th>\n",
       "      <th>1</th>\n",
       "      <th>55000</th>\n",
       "      <th>A</th>\n",
       "      <th>01110</th>\n",
       "      <th>곡물 및 기타 식량작물 재배업</th>\n",
       "      <th>21-Oct-2020 21:28:43</th>\n",
       "      <th>Unnamed: 10</th>\n",
       "    </tr>\n",
       "  </thead>\n",
       "  <tbody>\n",
       "    <tr>\n",
       "      <th>0</th>\n",
       "      <td>ZEROP11000</td>\n",
       "      <td>202008</td>\n",
       "      <td>11</td>\n",
       "      <td>서울특별시</td>\n",
       "      <td>0</td>\n",
       "      <td>0</td>\n",
       "      <td>A</td>\n",
       "      <td>1121</td>\n",
       "      <td>채소작물 재배업</td>\n",
       "      <td>21-Oct-2020 21:28:43</td>\n",
       "      <td>NaN</td>\n",
       "    </tr>\n",
       "    <tr>\n",
       "      <th>1</th>\n",
       "      <td>ZEROP11000</td>\n",
       "      <td>202008</td>\n",
       "      <td>11</td>\n",
       "      <td>서울특별시</td>\n",
       "      <td>12</td>\n",
       "      <td>227000</td>\n",
       "      <td>A</td>\n",
       "      <td>1122</td>\n",
       "      <td>화훼작물 재배업</td>\n",
       "      <td>21-Oct-2020 21:28:43</td>\n",
       "      <td>NaN</td>\n",
       "    </tr>\n",
       "    <tr>\n",
       "      <th>2</th>\n",
       "      <td>ZEROP11000</td>\n",
       "      <td>202008</td>\n",
       "      <td>11</td>\n",
       "      <td>서울특별시</td>\n",
       "      <td>1</td>\n",
       "      <td>200000</td>\n",
       "      <td>A</td>\n",
       "      <td>1123</td>\n",
       "      <td>종자 및 묘목 생산업</td>\n",
       "      <td>21-Oct-2020 21:28:43</td>\n",
       "      <td>NaN</td>\n",
       "    </tr>\n",
       "    <tr>\n",
       "      <th>3</th>\n",
       "      <td>ZEROP11000</td>\n",
       "      <td>202008</td>\n",
       "      <td>11</td>\n",
       "      <td>서울특별시</td>\n",
       "      <td>0</td>\n",
       "      <td>0</td>\n",
       "      <td>A</td>\n",
       "      <td>1131</td>\n",
       "      <td>과실작물 재배업</td>\n",
       "      <td>21-Oct-2020 21:28:43</td>\n",
       "      <td>NaN</td>\n",
       "    </tr>\n",
       "    <tr>\n",
       "      <th>4</th>\n",
       "      <td>ZEROP11000</td>\n",
       "      <td>202008</td>\n",
       "      <td>11</td>\n",
       "      <td>서울특별시</td>\n",
       "      <td>12</td>\n",
       "      <td>195400</td>\n",
       "      <td>A</td>\n",
       "      <td>1132</td>\n",
       "      <td>음료용 및 향신용 작물 재배업</td>\n",
       "      <td>21-Oct-2020 21:28:43</td>\n",
       "      <td>NaN</td>\n",
       "    </tr>\n",
       "  </tbody>\n",
       "</table>\n",
       "</div>"
      ],
      "text/plain": [
       "   ZEROP11000  202008  11  서울특별시   1   55000  A  01110  곡물 및 기타 식량작물 재배업  \\\n",
       "0  ZEROP11000  202008  11  서울특별시   0       0  A   1121          채소작물 재배업   \n",
       "1  ZEROP11000  202008  11  서울특별시  12  227000  A   1122          화훼작물 재배업   \n",
       "2  ZEROP11000  202008  11  서울특별시   1  200000  A   1123       종자 및 묘목 생산업   \n",
       "3  ZEROP11000  202008  11  서울특별시   0       0  A   1131          과실작물 재배업   \n",
       "4  ZEROP11000  202008  11  서울특별시  12  195400  A   1132  음료용 및 향신용 작물 재배업   \n",
       "\n",
       "   21-Oct-2020 21:28:43 Unnamed: 10  \n",
       "0  21-Oct-2020 21:28:43         NaN  \n",
       "1  21-Oct-2020 21:28:43         NaN  \n",
       "2  21-Oct-2020 21:28:43         NaN  \n",
       "3  21-Oct-2020 21:28:43         NaN  \n",
       "4  21-Oct-2020 21:28:43         NaN  "
      ]
     },
     "execution_count": 5,
     "metadata": {},
     "output_type": "execute_result"
    }
   ],
   "source": [
    "import pandas as pd\n",
    "df=pd.read_csv('KFM_2nd_ORIGIN_KFMZEROSTT001_20201124000000.csv')\n",
    "df.head()"
   ]
  },
  {
   "cell_type": "markdown",
   "metadata": {},
   "source": [
    "---"
   ]
  },
  {
   "cell_type": "markdown",
   "metadata": {},
   "source": [
    "## 전처리"
   ]
  },
  {
   "cell_type": "markdown",
   "metadata": {},
   "source": [
    "### 마스킹 된 데이터 제거"
   ]
  },
  {
   "cell_type": "code",
   "execution_count": 6,
   "metadata": {},
   "outputs": [
    {
     "data": {
      "text/html": [
       "<div>\n",
       "<style scoped>\n",
       "    .dataframe tbody tr th:only-of-type {\n",
       "        vertical-align: middle;\n",
       "    }\n",
       "\n",
       "    .dataframe tbody tr th {\n",
       "        vertical-align: top;\n",
       "    }\n",
       "\n",
       "    .dataframe thead th {\n",
       "        text-align: right;\n",
       "    }\n",
       "</style>\n",
       "<table border=\"1\" class=\"dataframe\">\n",
       "  <thead>\n",
       "    <tr style=\"text-align: right;\">\n",
       "      <th></th>\n",
       "      <th>ZEROP11000</th>\n",
       "      <th>202008</th>\n",
       "      <th>11</th>\n",
       "      <th>서울특별시</th>\n",
       "      <th>1</th>\n",
       "      <th>55000</th>\n",
       "      <th>A</th>\n",
       "      <th>01110</th>\n",
       "      <th>곡물 및 기타 식량작물 재배업</th>\n",
       "      <th>21-Oct-2020 21:28:43</th>\n",
       "    </tr>\n",
       "  </thead>\n",
       "  <tbody>\n",
       "    <tr>\n",
       "      <th>0</th>\n",
       "      <td>ZEROP11000</td>\n",
       "      <td>202008</td>\n",
       "      <td>11</td>\n",
       "      <td>서울특별시</td>\n",
       "      <td>0</td>\n",
       "      <td>0</td>\n",
       "      <td>A</td>\n",
       "      <td>1121</td>\n",
       "      <td>채소작물 재배업</td>\n",
       "      <td>21-Oct-2020 21:28:43</td>\n",
       "    </tr>\n",
       "    <tr>\n",
       "      <th>1</th>\n",
       "      <td>ZEROP11000</td>\n",
       "      <td>202008</td>\n",
       "      <td>11</td>\n",
       "      <td>서울특별시</td>\n",
       "      <td>12</td>\n",
       "      <td>227000</td>\n",
       "      <td>A</td>\n",
       "      <td>1122</td>\n",
       "      <td>화훼작물 재배업</td>\n",
       "      <td>21-Oct-2020 21:28:43</td>\n",
       "    </tr>\n",
       "    <tr>\n",
       "      <th>2</th>\n",
       "      <td>ZEROP11000</td>\n",
       "      <td>202008</td>\n",
       "      <td>11</td>\n",
       "      <td>서울특별시</td>\n",
       "      <td>1</td>\n",
       "      <td>200000</td>\n",
       "      <td>A</td>\n",
       "      <td>1123</td>\n",
       "      <td>종자 및 묘목 생산업</td>\n",
       "      <td>21-Oct-2020 21:28:43</td>\n",
       "    </tr>\n",
       "    <tr>\n",
       "      <th>3</th>\n",
       "      <td>ZEROP11000</td>\n",
       "      <td>202008</td>\n",
       "      <td>11</td>\n",
       "      <td>서울특별시</td>\n",
       "      <td>0</td>\n",
       "      <td>0</td>\n",
       "      <td>A</td>\n",
       "      <td>1131</td>\n",
       "      <td>과실작물 재배업</td>\n",
       "      <td>21-Oct-2020 21:28:43</td>\n",
       "    </tr>\n",
       "    <tr>\n",
       "      <th>4</th>\n",
       "      <td>ZEROP11000</td>\n",
       "      <td>202008</td>\n",
       "      <td>11</td>\n",
       "      <td>서울특별시</td>\n",
       "      <td>12</td>\n",
       "      <td>195400</td>\n",
       "      <td>A</td>\n",
       "      <td>1132</td>\n",
       "      <td>음료용 및 향신용 작물 재배업</td>\n",
       "      <td>21-Oct-2020 21:28:43</td>\n",
       "    </tr>\n",
       "  </tbody>\n",
       "</table>\n",
       "</div>"
      ],
      "text/plain": [
       "   ZEROP11000  202008  11  서울특별시   1   55000  A  01110  곡물 및 기타 식량작물 재배업  \\\n",
       "0  ZEROP11000  202008  11  서울특별시   0       0  A   1121          채소작물 재배업   \n",
       "1  ZEROP11000  202008  11  서울특별시  12  227000  A   1122          화훼작물 재배업   \n",
       "2  ZEROP11000  202008  11  서울특별시   1  200000  A   1123       종자 및 묘목 생산업   \n",
       "3  ZEROP11000  202008  11  서울특별시   0       0  A   1131          과실작물 재배업   \n",
       "4  ZEROP11000  202008  11  서울특별시  12  195400  A   1132  음료용 및 향신용 작물 재배업   \n",
       "\n",
       "   21-Oct-2020 21:28:43  \n",
       "0  21-Oct-2020 21:28:43  \n",
       "1  21-Oct-2020 21:28:43  \n",
       "2  21-Oct-2020 21:28:43  \n",
       "3  21-Oct-2020 21:28:43  \n",
       "4  21-Oct-2020 21:28:43  "
      ]
     },
     "execution_count": 6,
     "metadata": {},
     "output_type": "execute_result"
    }
   ],
   "source": [
    "df=df.iloc[:,:-1]\n",
    "df.head()"
   ]
  },
  {
   "cell_type": "markdown",
   "metadata": {},
   "source": [
    "### 데이터 분포확인"
   ]
  },
  {
   "cell_type": "code",
   "execution_count": 7,
   "metadata": {},
   "outputs": [
    {
     "data": {
      "text/plain": [
       "202009    981\n",
       "202008    978\n",
       "Name: 202008, dtype: int64"
      ]
     },
     "execution_count": 7,
     "metadata": {},
     "output_type": "execute_result"
    }
   ],
   "source": [
    "df['202008'].value_counts()"
   ]
  },
  {
   "cell_type": "code",
   "execution_count": 8,
   "metadata": {},
   "outputs": [
    {
     "data": {
      "text/plain": [
       "11    1959\n",
       "Name: 11, dtype: int64"
      ]
     },
     "execution_count": 8,
     "metadata": {},
     "output_type": "execute_result"
    }
   ],
   "source": [
    "df['11'].value_counts()"
   ]
  },
  {
   "cell_type": "code",
   "execution_count": 9,
   "metadata": {},
   "outputs": [
    {
     "data": {
      "text/plain": [
       "서울특별시    1959\n",
       "Name: 서울특별시, dtype: int64"
      ]
     },
     "execution_count": 9,
     "metadata": {},
     "output_type": "execute_result"
    }
   ],
   "source": [
    "df['서울특별시'].value_counts()"
   ]
  },
  {
   "cell_type": "code",
   "execution_count": 12,
   "metadata": {},
   "outputs": [
    {
     "data": {
      "text/plain": [
       "21-Oct-2020 22:05:28    981\n",
       "21-Oct-2020 21:28:43    978\n",
       "Name: 21-Oct-2020 21:28:43, dtype: int64"
      ]
     },
     "execution_count": 12,
     "metadata": {},
     "output_type": "execute_result"
    }
   ],
   "source": [
    "df['21-Oct-2020 21:28:43'].value_counts()"
   ]
  },
  {
   "cell_type": "markdown",
   "metadata": {},
   "source": [
    "### 서울시기준 데이터이고 광역시 코드도 모두같으므로, 제거해준다"
   ]
  },
  {
   "cell_type": "code",
   "execution_count": 10,
   "metadata": {},
   "outputs": [
    {
     "data": {
      "text/html": [
       "<div>\n",
       "<style scoped>\n",
       "    .dataframe tbody tr th:only-of-type {\n",
       "        vertical-align: middle;\n",
       "    }\n",
       "\n",
       "    .dataframe tbody tr th {\n",
       "        vertical-align: top;\n",
       "    }\n",
       "\n",
       "    .dataframe thead th {\n",
       "        text-align: right;\n",
       "    }\n",
       "</style>\n",
       "<table border=\"1\" class=\"dataframe\">\n",
       "  <thead>\n",
       "    <tr style=\"text-align: right;\">\n",
       "      <th></th>\n",
       "      <th>ZEROP11000</th>\n",
       "      <th>202008</th>\n",
       "      <th>1</th>\n",
       "      <th>55000</th>\n",
       "      <th>A</th>\n",
       "      <th>01110</th>\n",
       "      <th>곡물 및 기타 식량작물 재배업</th>\n",
       "      <th>21-Oct-2020 21:28:43</th>\n",
       "    </tr>\n",
       "  </thead>\n",
       "  <tbody>\n",
       "    <tr>\n",
       "      <th>0</th>\n",
       "      <td>ZEROP11000</td>\n",
       "      <td>202008</td>\n",
       "      <td>0</td>\n",
       "      <td>0</td>\n",
       "      <td>A</td>\n",
       "      <td>1121</td>\n",
       "      <td>채소작물 재배업</td>\n",
       "      <td>21-Oct-2020 21:28:43</td>\n",
       "    </tr>\n",
       "    <tr>\n",
       "      <th>1</th>\n",
       "      <td>ZEROP11000</td>\n",
       "      <td>202008</td>\n",
       "      <td>12</td>\n",
       "      <td>227000</td>\n",
       "      <td>A</td>\n",
       "      <td>1122</td>\n",
       "      <td>화훼작물 재배업</td>\n",
       "      <td>21-Oct-2020 21:28:43</td>\n",
       "    </tr>\n",
       "    <tr>\n",
       "      <th>2</th>\n",
       "      <td>ZEROP11000</td>\n",
       "      <td>202008</td>\n",
       "      <td>1</td>\n",
       "      <td>200000</td>\n",
       "      <td>A</td>\n",
       "      <td>1123</td>\n",
       "      <td>종자 및 묘목 생산업</td>\n",
       "      <td>21-Oct-2020 21:28:43</td>\n",
       "    </tr>\n",
       "    <tr>\n",
       "      <th>3</th>\n",
       "      <td>ZEROP11000</td>\n",
       "      <td>202008</td>\n",
       "      <td>0</td>\n",
       "      <td>0</td>\n",
       "      <td>A</td>\n",
       "      <td>1131</td>\n",
       "      <td>과실작물 재배업</td>\n",
       "      <td>21-Oct-2020 21:28:43</td>\n",
       "    </tr>\n",
       "    <tr>\n",
       "      <th>4</th>\n",
       "      <td>ZEROP11000</td>\n",
       "      <td>202008</td>\n",
       "      <td>12</td>\n",
       "      <td>195400</td>\n",
       "      <td>A</td>\n",
       "      <td>1132</td>\n",
       "      <td>음료용 및 향신용 작물 재배업</td>\n",
       "      <td>21-Oct-2020 21:28:43</td>\n",
       "    </tr>\n",
       "  </tbody>\n",
       "</table>\n",
       "</div>"
      ],
      "text/plain": [
       "   ZEROP11000  202008   1   55000  A  01110  곡물 및 기타 식량작물 재배업  \\\n",
       "0  ZEROP11000  202008   0       0  A   1121          채소작물 재배업   \n",
       "1  ZEROP11000  202008  12  227000  A   1122          화훼작물 재배업   \n",
       "2  ZEROP11000  202008   1  200000  A   1123       종자 및 묘목 생산업   \n",
       "3  ZEROP11000  202008   0       0  A   1131          과실작물 재배업   \n",
       "4  ZEROP11000  202008  12  195400  A   1132  음료용 및 향신용 작물 재배업   \n",
       "\n",
       "   21-Oct-2020 21:28:43  \n",
       "0  21-Oct-2020 21:28:43  \n",
       "1  21-Oct-2020 21:28:43  \n",
       "2  21-Oct-2020 21:28:43  \n",
       "3  21-Oct-2020 21:28:43  \n",
       "4  21-Oct-2020 21:28:43  "
      ]
     },
     "execution_count": 10,
     "metadata": {},
     "output_type": "execute_result"
    }
   ],
   "source": [
    "df.drop(columns=['11','서울특별시'],inplace=True)\n",
    "df.head()"
   ]
  },
  {
   "cell_type": "markdown",
   "metadata": {},
   "source": [
    "### 컬럼네임 변환해주기 "
   ]
  },
  {
   "cell_type": "code",
   "execution_count": 14,
   "metadata": {},
   "outputs": [
    {
     "data": {
      "text/html": [
       "<div>\n",
       "<style scoped>\n",
       "    .dataframe tbody tr th:only-of-type {\n",
       "        vertical-align: middle;\n",
       "    }\n",
       "\n",
       "    .dataframe tbody tr th {\n",
       "        vertical-align: top;\n",
       "    }\n",
       "\n",
       "    .dataframe thead th {\n",
       "        text-align: right;\n",
       "    }\n",
       "</style>\n",
       "<table border=\"1\" class=\"dataframe\">\n",
       "  <thead>\n",
       "    <tr style=\"text-align: right;\">\n",
       "      <th></th>\n",
       "      <th>소상공인결제분류코드</th>\n",
       "      <th>년월</th>\n",
       "      <th>결제건수</th>\n",
       "      <th>합계금액</th>\n",
       "      <th>표준산업업종대분류코드</th>\n",
       "      <th>표준산업업종상세분류코드</th>\n",
       "      <th>표준산업업종상세분류명</th>\n",
       "      <th>소상공인시스템로그일시</th>\n",
       "    </tr>\n",
       "  </thead>\n",
       "  <tbody>\n",
       "    <tr>\n",
       "      <th>0</th>\n",
       "      <td>ZEROP11000</td>\n",
       "      <td>202008</td>\n",
       "      <td>0</td>\n",
       "      <td>0</td>\n",
       "      <td>A</td>\n",
       "      <td>1121</td>\n",
       "      <td>채소작물 재배업</td>\n",
       "      <td>21-Oct-2020 21:28:43</td>\n",
       "    </tr>\n",
       "    <tr>\n",
       "      <th>1</th>\n",
       "      <td>ZEROP11000</td>\n",
       "      <td>202008</td>\n",
       "      <td>12</td>\n",
       "      <td>227000</td>\n",
       "      <td>A</td>\n",
       "      <td>1122</td>\n",
       "      <td>화훼작물 재배업</td>\n",
       "      <td>21-Oct-2020 21:28:43</td>\n",
       "    </tr>\n",
       "    <tr>\n",
       "      <th>2</th>\n",
       "      <td>ZEROP11000</td>\n",
       "      <td>202008</td>\n",
       "      <td>1</td>\n",
       "      <td>200000</td>\n",
       "      <td>A</td>\n",
       "      <td>1123</td>\n",
       "      <td>종자 및 묘목 생산업</td>\n",
       "      <td>21-Oct-2020 21:28:43</td>\n",
       "    </tr>\n",
       "    <tr>\n",
       "      <th>3</th>\n",
       "      <td>ZEROP11000</td>\n",
       "      <td>202008</td>\n",
       "      <td>0</td>\n",
       "      <td>0</td>\n",
       "      <td>A</td>\n",
       "      <td>1131</td>\n",
       "      <td>과실작물 재배업</td>\n",
       "      <td>21-Oct-2020 21:28:43</td>\n",
       "    </tr>\n",
       "    <tr>\n",
       "      <th>4</th>\n",
       "      <td>ZEROP11000</td>\n",
       "      <td>202008</td>\n",
       "      <td>12</td>\n",
       "      <td>195400</td>\n",
       "      <td>A</td>\n",
       "      <td>1132</td>\n",
       "      <td>음료용 및 향신용 작물 재배업</td>\n",
       "      <td>21-Oct-2020 21:28:43</td>\n",
       "    </tr>\n",
       "  </tbody>\n",
       "</table>\n",
       "</div>"
      ],
      "text/plain": [
       "   소상공인결제분류코드      년월  결제건수    합계금액 표준산업업종대분류코드  표준산업업종상세분류코드  \\\n",
       "0  ZEROP11000  202008     0       0           A          1121   \n",
       "1  ZEROP11000  202008    12  227000           A          1122   \n",
       "2  ZEROP11000  202008     1  200000           A          1123   \n",
       "3  ZEROP11000  202008     0       0           A          1131   \n",
       "4  ZEROP11000  202008    12  195400           A          1132   \n",
       "\n",
       "        표준산업업종상세분류명           소상공인시스템로그일시  \n",
       "0          채소작물 재배업  21-Oct-2020 21:28:43  \n",
       "1          화훼작물 재배업  21-Oct-2020 21:28:43  \n",
       "2       종자 및 묘목 생산업  21-Oct-2020 21:28:43  \n",
       "3          과실작물 재배업  21-Oct-2020 21:28:43  \n",
       "4  음료용 및 향신용 작물 재배업  21-Oct-2020 21:28:43  "
      ]
     },
     "execution_count": 14,
     "metadata": {},
     "output_type": "execute_result"
    }
   ],
   "source": [
    "column_list=['소상공인결제분류코드','년월','결제건수','합계금액','표준산업업종대분류코드','표준산업업종상세분류코드','표준산업업종상세분류명','소상공인시스템로그일시']\n",
    "df.columns=column_list\n",
    "df.head()"
   ]
  },
  {
   "cell_type": "markdown",
   "metadata": {},
   "source": [
    "### 결측지확인"
   ]
  },
  {
   "cell_type": "code",
   "execution_count": 15,
   "metadata": {},
   "outputs": [
    {
     "data": {
      "text/plain": [
       "소상공인결제분류코드      0\n",
       "년월              0\n",
       "결제건수            0\n",
       "합계금액            0\n",
       "표준산업업종대분류코드     0\n",
       "표준산업업종상세분류코드    0\n",
       "표준산업업종상세분류명     0\n",
       "소상공인시스템로그일시     0\n",
       "dtype: int64"
      ]
     },
     "execution_count": 15,
     "metadata": {},
     "output_type": "execute_result"
    }
   ],
   "source": [
    "df.isnull().sum()"
   ]
  },
  {
   "cell_type": "code",
   "execution_count": null,
   "metadata": {},
   "outputs": [],
   "source": []
  }
 ],
 "metadata": {
  "kernelspec": {
   "display_name": "base",
   "language": "python",
   "name": "python3"
  },
  "language_info": {
   "codemirror_mode": {
    "name": "ipython",
    "version": 3
   },
   "file_extension": ".py",
   "mimetype": "text/x-python",
   "name": "python",
   "nbconvert_exporter": "python",
   "pygments_lexer": "ipython3",
   "version": "3.9.13"
  }
 },
 "nbformat": 4,
 "nbformat_minor": 2
}
