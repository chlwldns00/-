{
 "cells": [
  {
   "cell_type": "code",
   "execution_count": 1,
   "metadata": {},
   "outputs": [
    {
     "name": "stderr",
     "output_type": "stream",
     "text": [
      "c:\\Users\\home\\anaconda3\\lib\\site-packages\\pandas\\core\\computation\\expressions.py:21: UserWarning: Pandas requires version '2.8.4' or newer of 'numexpr' (version '2.8.3' currently installed).\n",
      "  from pandas.core.computation.check import NUMEXPR_INSTALLED\n",
      "c:\\Users\\home\\anaconda3\\lib\\site-packages\\pandas\\core\\arrays\\masked.py:60: UserWarning: Pandas requires version '1.3.6' or newer of 'bottleneck' (version '1.3.5' currently installed).\n",
      "  from pandas.core import (\n"
     ]
    }
   ],
   "source": [
    "import folium\n",
    "\n",
    "# 각 도시의 좌표 (예시로 임의의 좌표를 사용, 실제 좌표 데이터를 사용해야 함)\n",
    "coordinates = {\n",
    "    '고양시': [37.6584, 126.8320],\n",
    "    '김포시': [37.6155, 126.7158],\n",
    "    '남양주시': [37.6367, 127.2165],\n",
    "    '부천시': [37.5034, 126.7660],\n",
    "    '성남시': [37.4200, 127.1265],\n",
    "    '시흥시': [37.3802, 126.8031],\n",
    "    '안산시': [37.3219, 126.8309],\n",
    "    '안양시': [37.3943, 126.9568],\n",
    "    '의정부시': [37.7381, 127.0331],\n",
    "    '파주시': [37.7601, 126.7797],\n",
    "    '평택시': [36.9946, 127.0883],\n",
    "    '가평군': [37.8315, 127.5094],\n",
    "    '과천시': [37.4292, 126.9873],\n",
    "    '광명시': [37.4786, 126.8645],\n",
    "    '광주시': [37.4292, 127.2554],\n",
    "    '구리시': [37.5943, 127.1294],\n",
    "    '군포시': [37.3616, 126.9357],\n",
    "    '양평군': [37.4918, 127.4873],\n",
    "    '이천시': [37.2799, 127.4420],\n",
    "    '하남시': [37.5393, 127.2141],\n",
    "    '동두천시': [37.9034, 127.0604],\n",
    "    '안성시': [37.0079, 127.2792],\n",
    "    '양주시': [37.7850, 127.0454],\n",
    "    '여주시': [37.2989, 127.6371],\n",
    "    '연천군': [38.0964, 127.0745],\n",
    "    '오산시': [37.1499, 127.0773],\n",
    "    '의왕시': [37.3443, 126.9680],\n",
    "    '포천시': [37.8944, 127.2000],\n",
    "    '수원시': [37.2636, 127.0286],\n",
    "    '용인시': [37.2411, 127.1776],\n",
    "    '화성시': [37.1996, 126.8310]\n",
    "}\n",
    "\n",
    "# 군집별 도시 리스트\n",
    "clusters = {\n",
    "    0: ['고양시', '김포시', '남양주시', '부천시', '성남시', '시흥시', '안산시', '안양시', '의정부시', '파주시', '평택시'],\n",
    "    1: ['가평군', '과천시', '광명시', '광주시', '구리시', '군포시', '양평군', '이천시', '하남시'],\n",
    "    2: ['동두천시', '안성시', '양주시', '여주시', '연천군', '오산시', '의왕시', '포천시'],\n",
    "    3: ['수원시', '용인시', '화성시']\n",
    "}\n",
    "\n",
    "# folium 지도 생성\n",
    "m = folium.Map(location=[37.5, 127], zoom_start=9)\n",
    "\n",
    "# 각 군집을 선으로 연결\n",
    "colors = ['red', 'blue', 'green', 'purple']\n",
    "\n",
    "for cluster_id, cities in clusters.items():\n",
    "    points = [coordinates[city] for city in cities]\n",
    "    folium.PolyLine(points, color=colors[cluster_id], weight=2.5, opacity=1).add_to(m)\n",
    "\n",
    "# 지도 출력 sfsf\n",
    "m.save('clusters_map.html')\n"
   ]
  }
 ],
 "metadata": {
  "kernelspec": {
   "display_name": "base",
   "language": "python",
   "name": "python3"
  },
  "language_info": {
   "codemirror_mode": {
    "name": "ipython",
    "version": 3
   },
   "file_extension": ".py",
   "mimetype": "text/x-python",
   "name": "python",
   "nbconvert_exporter": "python",
   "pygments_lexer": "ipython3",
   "version": "3.9.13"
  }
 },
 "nbformat": 4,
 "nbformat_minor": 2
}
