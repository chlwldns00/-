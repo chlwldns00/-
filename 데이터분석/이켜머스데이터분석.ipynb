{
 "cells": [
  {
   "cell_type": "code",
   "execution_count": 1,
   "metadata": {},
   "outputs": [
    {
     "name": "stdout",
     "output_type": "stream",
     "text": [
      "<class 'pandas.core.frame.DataFrame'>\n",
      "RangeIndex: 10000 entries, 0 to 9999\n",
      "Data columns (total 10 columns):\n",
      " #   Column      Non-Null Count  Dtype \n",
      "---  ------      --------------  ----- \n",
      " 0   회원코드        10000 non-null  object\n",
      " 1   프로그램        10000 non-null  object\n",
      " 2   상태          10000 non-null  object\n",
      " 3   프로그램가격      10000 non-null  int64 \n",
      " 4   최종결제금액      10000 non-null  int64 \n",
      " 5   결제시각        10000 non-null  object\n",
      " 6   결제유형        10000 non-null  object\n",
      " 7   채널          10000 non-null  object\n",
      " 8   보조식품가격      10000 non-null  int64 \n",
      " 9   보조식품(추가구매)  10000 non-null  object\n",
      "dtypes: int64(3), object(7)\n",
      "memory usage: 781.4+ KB\n"
     ]
    }
   ],
   "source": [
    "import pandas as pd\n",
    "import numpy as np\n",
    "df1=pd.read_csv('Data/02_Data.csv')\n",
    "df1.info()\n"
   ]
  },
  {
   "cell_type": "code",
   "execution_count": 2,
   "metadata": {},
   "outputs": [
    {
     "data": {
      "text/plain": [
       "체중감량 프로그램 (타입 A)    0.6672\n",
       "체중감량 프로그램 (타입B)     0.3328\n",
       "Name: 프로그램, dtype: float64"
      ]
     },
     "execution_count": 2,
     "metadata": {},
     "output_type": "execute_result"
    }
   ],
   "source": [
    "df1['프로그램'].value_counts(normalize=True)"
   ]
  },
  {
   "cell_type": "markdown",
   "metadata": {},
   "source": [
    "명목형변수  \n",
    "체중감량 프로그램 (타입A ) => 체중 5kg감량 목표 성공\n",
    "체중감량 프로그램 (타입B ) => 체중 5kg감량 목표 실패 "
   ]
  },
  {
   "cell_type": "code",
   "execution_count": 5,
   "metadata": {},
   "outputs": [
    {
     "data": {
      "text/plain": [
       "1    0.6672\n",
       "0    0.3328\n",
       "Name: 체중감량성공, dtype: float64"
      ]
     },
     "execution_count": 5,
     "metadata": {},
     "output_type": "execute_result"
    }
   ],
   "source": [
    "df1=df1.assign(체중감량성공=np.where(df1['프로그램']=='체중감량 프로그램 (타입 A)', '1','0'))\n",
    "df1['체중감량성공'].value_counts(normalize=True)\n",
    "                                             "
   ]
  },
  {
   "cell_type": "markdown",
   "metadata": {},
   "source": [
    "최종결제 금액과 체중감량프로그램 성공실패"
   ]
  },
  {
   "cell_type": "code",
   "execution_count": null,
   "metadata": {},
   "outputs": [],
   "source": []
  }
 ],
 "metadata": {
  "kernelspec": {
   "display_name": "base",
   "language": "python",
   "name": "python3"
  },
  "language_info": {
   "codemirror_mode": {
    "name": "ipython",
    "version": 3
   },
   "file_extension": ".py",
   "mimetype": "text/x-python",
   "name": "python",
   "nbconvert_exporter": "python",
   "pygments_lexer": "ipython3",
   "version": "3.9.13"
  }
 },
 "nbformat": 4,
 "nbformat_minor": 2
}
