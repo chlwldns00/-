{
 "cells": [
  {
   "cell_type": "code",
   "execution_count": 2,
   "metadata": {},
   "outputs": [],
   "source": [
    "import pandas as pd\n",
    "import numpy as np\n",
    "import seaborn as sns\n",
    "\n",
    "df=pd.read_csv('Data/E-commerce/user_sample_now.csv')"
   ]
  },
  {
   "cell_type": "code",
   "execution_count": 106,
   "metadata": {},
   "outputs": [
    {
     "data": {
      "text/plain": [
       "0    436308\n",
       "1     19093\n",
       "Name: ordered, dtype: int64"
      ]
     },
     "execution_count": 106,
     "metadata": {},
     "output_type": "execute_result"
    }
   ],
   "source": [
    "df['ordered'].value_counts()"
   ]
  },
  {
   "cell_type": "code",
   "execution_count": null,
   "metadata": {},
   "outputs": [
    {
     "data": {
      "text/plain": [
       "0    426768\n",
       "1     28633\n",
       "Name: checked_delivery_detail, dtype: int64"
      ]
     },
     "execution_count": 107,
     "metadata": {},
     "output_type": "execute_result"
    }
   ],
   "source": [
    "df['checked_delivery_detail'].value_counts()"
   ]
  },
  {
   "cell_type": "code",
   "execution_count": 3,
   "metadata": {},
   "outputs": [
    {
     "name": "stdout",
     "output_type": "stream",
     "text": [
      "UserID : a720-6b732349-a720-4862-bd21-644732    1\n",
      "22d3-59b23c76-22d3-4074-a767-183814    1\n",
      "4c88-59b3d7a2-4c88-4c62-96b0-32243     1\n",
      "7739-59b3c969-7739-4c7a-80cd-94167     1\n",
      "0477-59b39376-0477-4b56-843d-931365    1\n",
      "                                      ..\n",
      "074a-ac239517-074a-46a4-ab7c-192772    1\n",
      "7819-ac2356dc-7819-4bb0-83aa-398482    1\n",
      "0418-ac235007-0418-4b0b-a8b4-96811     1\n",
      "8468-ac22c648-8468-b164-8707-727029    1\n",
      "7aav-06d7bd20-7aav-411b-bc9c-325055    1\n",
      "Name: UserID, Length: 455401, dtype: int64\n",
      "basket_icon_click : 0    410248\n",
      "1     45153\n",
      "Name: basket_icon_click, dtype: int64\n",
      "basket_add_list : 0    421464\n",
      "1     33937\n",
      "Name: basket_add_list, dtype: int64\n",
      "basket_add_detail : 0    403979\n",
      "1     51422\n",
      "Name: basket_add_detail, dtype: int64\n",
      "sort_by : 0    438620\n",
      "1     16781\n",
      "Name: sort_by, dtype: int64\n",
      "image_picker : 0    443226\n",
      "1     12175\n",
      "Name: image_picker, dtype: int64\n",
      "account_page_click : 0    453775\n",
      "1      1626\n",
      "Name: account_page_click, dtype: int64\n",
      "promo_banner_click : 0    448020\n",
      "1      7381\n",
      "Name: promo_banner_click, dtype: int64\n",
      "detail_wishlist_add : 0    453802\n",
      "1      1599\n",
      "Name: detail_wishlist_add, dtype: int64\n",
      "list_size_dropdown : 0    350494\n",
      "1    104907\n",
      "Name: list_size_dropdown, dtype: int64\n",
      "closed_minibasket_click : 0    447533\n",
      "1      7868\n",
      "Name: closed_minibasket_click, dtype: int64\n",
      "checked_delivery_detail : 0    426768\n",
      "1     28633\n",
      "Name: checked_delivery_detail, dtype: int64\n",
      "checked_returns_detail : 0    451221\n",
      "1      4180\n",
      "Name: checked_returns_detail, dtype: int64\n",
      "sign_in : 0    414957\n",
      "1     40444\n",
      "Name: sign_in, dtype: int64\n",
      "saw_checkout : 0    418930\n",
      "1     36471\n",
      "Name: saw_checkout, dtype: int64\n",
      "saw_sizecharts : 0    455224\n",
      "1       177\n",
      "Name: saw_sizecharts, dtype: int64\n",
      "saw_delivery : 0    452877\n",
      "1      2524\n",
      "Name: saw_delivery, dtype: int64\n",
      "saw_account_upgrade : 0    454902\n",
      "1       499\n",
      "Name: saw_account_upgrade, dtype: int64\n",
      "saw_homepage : 0    323324\n",
      "1    132077\n",
      "Name: saw_homepage, dtype: int64\n",
      "device_mobile : 1    309994\n",
      "0    145407\n",
      "Name: device_mobile, dtype: int64\n",
      "device_computer : 0    366953\n",
      "1     88448\n",
      "Name: device_computer, dtype: int64\n",
      "device_tablet : 0    396944\n",
      "1     58457\n",
      "Name: device_tablet, dtype: int64\n",
      "returning_user : 1    243601\n",
      "0    211800\n",
      "Name: returning_user, dtype: int64\n",
      "loc_uk : 1    424991\n",
      "0     30410\n",
      "Name: loc_uk, dtype: int64\n",
      "ordered : 0    436308\n",
      "1     19093\n",
      "Name: ordered, dtype: int64\n"
     ]
    }
   ],
   "source": [
    "for column in df.columns:\n",
    "    print(column,':',df[column].value_counts())\n",
    "   \n",
    "   "
   ]
  },
  {
   "cell_type": "code",
   "execution_count": 92,
   "metadata": {},
   "outputs": [
    {
     "ename": "TypeError",
     "evalue": "'<=' not supported between instances of 'int' and 'numpy.str_'",
     "output_type": "error",
     "traceback": [
      "\u001b[1;31m---------------------------------------------------------------------------\u001b[0m",
      "\u001b[1;31mTypeError\u001b[0m                                 Traceback (most recent call last)",
      "\u001b[1;32m~\\AppData\\Local\\Temp\\ipykernel_20112\\343798885.py\u001b[0m in \u001b[0;36m<module>\u001b[1;34m\u001b[0m\n\u001b[1;32m----> 1\u001b[1;33m \u001b[0mdf\u001b[0m\u001b[1;33m.\u001b[0m\u001b[0mdescribe\u001b[0m\u001b[1;33m(\u001b[0m\u001b[1;34m'all'\u001b[0m\u001b[1;33m)\u001b[0m\u001b[1;33m\u001b[0m\u001b[1;33m\u001b[0m\u001b[0m\n\u001b[0m",
      "\u001b[1;32mc:\\Users\\home\\anaconda3\\lib\\site-packages\\pandas\\core\\generic.py\u001b[0m in \u001b[0;36mdescribe\u001b[1;34m(self, percentiles, include, exclude, datetime_is_numeric)\u001b[0m\n\u001b[0;32m  10230\u001b[0m         \u001b[0mmax\u001b[0m            \u001b[0mNaN\u001b[0m      \u001b[1;36m3.0\u001b[0m\u001b[1;33m\u001b[0m\u001b[1;33m\u001b[0m\u001b[0m\n\u001b[0;32m  10231\u001b[0m         \"\"\"\n\u001b[1;32m> 10232\u001b[1;33m         return describe_ndframe(\n\u001b[0m\u001b[0;32m  10233\u001b[0m             \u001b[0mobj\u001b[0m\u001b[1;33m=\u001b[0m\u001b[0mself\u001b[0m\u001b[1;33m,\u001b[0m\u001b[1;33m\u001b[0m\u001b[1;33m\u001b[0m\u001b[0m\n\u001b[0;32m  10234\u001b[0m             \u001b[0minclude\u001b[0m\u001b[1;33m=\u001b[0m\u001b[0minclude\u001b[0m\u001b[1;33m,\u001b[0m\u001b[1;33m\u001b[0m\u001b[1;33m\u001b[0m\u001b[0m\n",
      "\u001b[1;32mc:\\Users\\home\\anaconda3\\lib\\site-packages\\pandas\\core\\describe.py\u001b[0m in \u001b[0;36mdescribe_ndframe\u001b[1;34m(obj, include, exclude, datetime_is_numeric, percentiles)\u001b[0m\n\u001b[0;32m     76\u001b[0m     \u001b[0mDataframe\u001b[0m \u001b[1;32mor\u001b[0m \u001b[0mseries\u001b[0m \u001b[0mdescription\u001b[0m\u001b[1;33m.\u001b[0m\u001b[1;33m\u001b[0m\u001b[1;33m\u001b[0m\u001b[0m\n\u001b[0;32m     77\u001b[0m     \"\"\"\n\u001b[1;32m---> 78\u001b[1;33m     \u001b[0mpercentiles\u001b[0m \u001b[1;33m=\u001b[0m \u001b[0mrefine_percentiles\u001b[0m\u001b[1;33m(\u001b[0m\u001b[0mpercentiles\u001b[0m\u001b[1;33m)\u001b[0m\u001b[1;33m\u001b[0m\u001b[1;33m\u001b[0m\u001b[0m\n\u001b[0m\u001b[0;32m     79\u001b[0m \u001b[1;33m\u001b[0m\u001b[0m\n\u001b[0;32m     80\u001b[0m     \u001b[0mdescriber\u001b[0m\u001b[1;33m:\u001b[0m \u001b[0mNDFrameDescriberAbstract\u001b[0m\u001b[1;33m\u001b[0m\u001b[1;33m\u001b[0m\u001b[0m\n",
      "\u001b[1;32mc:\\Users\\home\\anaconda3\\lib\\site-packages\\pandas\\core\\describe.py\u001b[0m in \u001b[0;36mrefine_percentiles\u001b[1;34m(percentiles)\u001b[0m\n\u001b[0;32m    406\u001b[0m \u001b[1;33m\u001b[0m\u001b[0m\n\u001b[0;32m    407\u001b[0m     \u001b[1;31m# get them all to be in [0, 1]\u001b[0m\u001b[1;33m\u001b[0m\u001b[1;33m\u001b[0m\u001b[0m\n\u001b[1;32m--> 408\u001b[1;33m     \u001b[0mvalidate_percentile\u001b[0m\u001b[1;33m(\u001b[0m\u001b[0mpercentiles\u001b[0m\u001b[1;33m)\u001b[0m\u001b[1;33m\u001b[0m\u001b[1;33m\u001b[0m\u001b[0m\n\u001b[0m\u001b[0;32m    409\u001b[0m \u001b[1;33m\u001b[0m\u001b[0m\n\u001b[0;32m    410\u001b[0m     \u001b[1;31m# median should always be included\u001b[0m\u001b[1;33m\u001b[0m\u001b[1;33m\u001b[0m\u001b[0m\n",
      "\u001b[1;32mc:\\Users\\home\\anaconda3\\lib\\site-packages\\pandas\\util\\_validators.py\u001b[0m in \u001b[0;36mvalidate_percentile\u001b[1;34m(q)\u001b[0m\n\u001b[0;32m    420\u001b[0m             \u001b[1;32mraise\u001b[0m \u001b[0mValueError\u001b[0m\u001b[1;33m(\u001b[0m\u001b[0mmsg\u001b[0m\u001b[1;33m.\u001b[0m\u001b[0mformat\u001b[0m\u001b[1;33m(\u001b[0m\u001b[0mq_arr\u001b[0m \u001b[1;33m/\u001b[0m \u001b[1;36m100.0\u001b[0m\u001b[1;33m)\u001b[0m\u001b[1;33m)\u001b[0m\u001b[1;33m\u001b[0m\u001b[1;33m\u001b[0m\u001b[0m\n\u001b[0;32m    421\u001b[0m     \u001b[1;32melse\u001b[0m\u001b[1;33m:\u001b[0m\u001b[1;33m\u001b[0m\u001b[1;33m\u001b[0m\u001b[0m\n\u001b[1;32m--> 422\u001b[1;33m         \u001b[1;32mif\u001b[0m \u001b[1;32mnot\u001b[0m \u001b[0mall\u001b[0m\u001b[1;33m(\u001b[0m\u001b[1;36m0\u001b[0m \u001b[1;33m<=\u001b[0m \u001b[0mqs\u001b[0m \u001b[1;33m<=\u001b[0m \u001b[1;36m1\u001b[0m \u001b[1;32mfor\u001b[0m \u001b[0mqs\u001b[0m \u001b[1;32min\u001b[0m \u001b[0mq_arr\u001b[0m\u001b[1;33m)\u001b[0m\u001b[1;33m:\u001b[0m\u001b[1;33m\u001b[0m\u001b[1;33m\u001b[0m\u001b[0m\n\u001b[0m\u001b[0;32m    423\u001b[0m             \u001b[1;32mraise\u001b[0m \u001b[0mValueError\u001b[0m\u001b[1;33m(\u001b[0m\u001b[0mmsg\u001b[0m\u001b[1;33m.\u001b[0m\u001b[0mformat\u001b[0m\u001b[1;33m(\u001b[0m\u001b[0mq_arr\u001b[0m \u001b[1;33m/\u001b[0m \u001b[1;36m100.0\u001b[0m\u001b[1;33m)\u001b[0m\u001b[1;33m)\u001b[0m\u001b[1;33m\u001b[0m\u001b[1;33m\u001b[0m\u001b[0m\n\u001b[0;32m    424\u001b[0m     \u001b[1;32mreturn\u001b[0m \u001b[0mq_arr\u001b[0m\u001b[1;33m\u001b[0m\u001b[1;33m\u001b[0m\u001b[0m\n",
      "\u001b[1;32mc:\\Users\\home\\anaconda3\\lib\\site-packages\\pandas\\util\\_validators.py\u001b[0m in \u001b[0;36m<genexpr>\u001b[1;34m(.0)\u001b[0m\n\u001b[0;32m    420\u001b[0m             \u001b[1;32mraise\u001b[0m \u001b[0mValueError\u001b[0m\u001b[1;33m(\u001b[0m\u001b[0mmsg\u001b[0m\u001b[1;33m.\u001b[0m\u001b[0mformat\u001b[0m\u001b[1;33m(\u001b[0m\u001b[0mq_arr\u001b[0m \u001b[1;33m/\u001b[0m \u001b[1;36m100.0\u001b[0m\u001b[1;33m)\u001b[0m\u001b[1;33m)\u001b[0m\u001b[1;33m\u001b[0m\u001b[1;33m\u001b[0m\u001b[0m\n\u001b[0;32m    421\u001b[0m     \u001b[1;32melse\u001b[0m\u001b[1;33m:\u001b[0m\u001b[1;33m\u001b[0m\u001b[1;33m\u001b[0m\u001b[0m\n\u001b[1;32m--> 422\u001b[1;33m         \u001b[1;32mif\u001b[0m \u001b[1;32mnot\u001b[0m \u001b[0mall\u001b[0m\u001b[1;33m(\u001b[0m\u001b[1;36m0\u001b[0m \u001b[1;33m<=\u001b[0m \u001b[0mqs\u001b[0m \u001b[1;33m<=\u001b[0m \u001b[1;36m1\u001b[0m \u001b[1;32mfor\u001b[0m \u001b[0mqs\u001b[0m \u001b[1;32min\u001b[0m \u001b[0mq_arr\u001b[0m\u001b[1;33m)\u001b[0m\u001b[1;33m:\u001b[0m\u001b[1;33m\u001b[0m\u001b[1;33m\u001b[0m\u001b[0m\n\u001b[0m\u001b[0;32m    423\u001b[0m             \u001b[1;32mraise\u001b[0m \u001b[0mValueError\u001b[0m\u001b[1;33m(\u001b[0m\u001b[0mmsg\u001b[0m\u001b[1;33m.\u001b[0m\u001b[0mformat\u001b[0m\u001b[1;33m(\u001b[0m\u001b[0mq_arr\u001b[0m \u001b[1;33m/\u001b[0m \u001b[1;36m100.0\u001b[0m\u001b[1;33m)\u001b[0m\u001b[1;33m)\u001b[0m\u001b[1;33m\u001b[0m\u001b[1;33m\u001b[0m\u001b[0m\n\u001b[0;32m    424\u001b[0m     \u001b[1;32mreturn\u001b[0m \u001b[0mq_arr\u001b[0m\u001b[1;33m\u001b[0m\u001b[1;33m\u001b[0m\u001b[0m\n",
      "\u001b[1;31mTypeError\u001b[0m: '<=' not supported between instances of 'int' and 'numpy.str_'"
     ]
    }
   ],
   "source": [
    "df.describe()"
   ]
  },
  {
   "cell_type": "code",
   "execution_count": 89,
   "metadata": {},
   "outputs": [],
   "source": [
    "df.rename(columns={'saw_homepage': 'saw_purchasepage'},inplace=True)"
   ]
  },
  {
   "cell_type": "code",
   "execution_count": 103,
   "metadata": {},
   "outputs": [],
   "source": [
    "df.rename(columns={'saw_categorycheckout': 'saw_category_checkout'},inplace=True)"
   ]
  },
  {
   "cell_type": "code",
   "execution_count": 90,
   "metadata": {},
   "outputs": [
    {
     "name": "stdout",
     "output_type": "stream",
     "text": [
      "<class 'pandas.core.series.Series'>\n",
      "RangeIndex: 455401 entries, 0 to 455400\n",
      "Series name: saw_purchasepage\n",
      "Non-Null Count   Dtype\n",
      "--------------   -----\n",
      "455401 non-null  int64\n",
      "dtypes: int64(1)\n",
      "memory usage: 3.5 MB\n"
     ]
    }
   ],
   "source": [
    "df['saw_purchasepage'].info()"
   ]
  },
  {
   "cell_type": "markdown",
   "metadata": {},
   "source": [
    "### 구매와 관련된 요인 찾기 with 상관분석"
   ]
  },
  {
   "cell_type": "code",
   "execution_count": 105,
   "metadata": {},
   "outputs": [
    {
     "data": {
      "image/png": "[encoded data removed]",
      "text/plain": [
       "<Figure size 1600x1400 with 2 Axes>"
      ]
     },
     "metadata": {},
     "output_type": "display_data"
    }
   ],
   "source": [
    "import matplotlib.pylab as plt\n",
    "correlation = df.corr()[['ordered']]\n",
    "plt.figure(figsize=(16, 14))\n",
    "sns.heatmap(correlation, vmax=0.6, center=0, square=True, linewidths=2, cmap='Blues')\n",
    "# plt.savefig('heatmap.png')\n",
    "plt.show()\n"
   ]
  },
  {
   "cell_type": "code",
   "execution_count": 104,
   "metadata": {},
   "outputs": [
    {
     "data": {
      "text/plain": [
       "ordered                    1.000000\n",
       "checked_delivery_detail    0.798720\n",
       "saw_category_checkout      0.708986\n",
       "sign_in                    0.665556\n",
       "basket_icon_click          0.428334\n",
       "basket_add_detail          0.414420\n",
       "basket_add_list            0.287666\n",
       "saw_purchasepage           0.157778\n",
       "list_size_dropdown         0.154867\n",
       "closed_minibasket_click    0.140011\n",
       "image_picker               0.071492\n",
       "returning_user             0.060295\n",
       "checked_returns_detail     0.059484\n",
       "account_page_click         0.057279\n",
       "promo_banner_click         0.056533\n",
       "sort_by                    0.054636\n",
       "device_computer            0.049208\n",
       "loc_uk                     0.031643\n",
       "saw_delivery               0.031461\n",
       "saw_account_upgrade        0.025857\n",
       "detail_wishlist_add        0.023516\n",
       "device_tablet              0.016939\n",
       "saw_sizecharts             0.007548\n",
       "device_mobile             -0.042907\n",
       "Name: ordered, dtype: float64"
      ]
     },
     "execution_count": 104,
     "metadata": {},
     "output_type": "execute_result"
    }
   ],
   "source": [
    "df.corr()['ordered'].sort_values(ascending=False)"
   ]
  },
  {
   "cell_type": "markdown",
   "metadata": {},
   "source": [
    "**단순히 상관분석으로 연관관계를 설명할수있지만, 인과관계를 설명할순없기에 상세한 분석이 필요하다!!**"
   ]
  },
  {
   "cell_type": "markdown",
   "metadata": {},
   "source": [
    "### 기초 EDA"
   ]
  },
  {
   "cell_type": "markdown",
   "metadata": {},
   "source": [
    "- 0.주요 변수 설명  (yes or no 1 , 0 데이터로 이루어져있는 데이터)\n",
    "> promo_banner_click: 고객이 구매관련 페이지로 링크된 프로모션 배너를 클릭 유무\n",
    "> saw_purchasepage: 고객이 구매관련 페이지로 진입 유무\n",
    "> ordered : 구매완료 유무\n",
    "> basket_icon_click : 고객이 장바구니 아이콘을 클릭 유무\n",
    "> basket_add_detail : 고객이 장바구니에 제품을 추가했는지 유무\n",
    "> saw_category_checkout : 고객이 특정물품을 카테고리 알람등록했는지(할인알람,행사알람 등)\n",
    "> sign_in : 고객이 로그인을 했는지 유무\n",
    "> 고객의 후기를 썻는지 유무"
   ]
  },
  {
   "cell_type": "markdown",
   "metadata": {},
   "source": [
    "- 1.페이지 접속경로\n",
    "    - pc, moblie , tablet 을 사용하여 접속하는 유저는 각각의 column에 1로 표기됨\n",
    "    - 각각의 column 데이터가 0,1로 3개의 column으로 표현되어있으므로 '페이지 접속카테고리' 의 하나의 컬럼으로 pc, moblie, tablet을 나누겟다."
   ]
  },
  {
   "cell_type": "markdown",
   "metadata": {},
   "source": [
    "- 원본데이터 형식\n"
   ]
  },
  {
   "cell_type": "code",
   "execution_count": 44,
   "metadata": {},
   "outputs": [
    {
     "data": {
      "text/html": [
       "<div>\n",
       "<style scoped>\n",
       "    .dataframe tbody tr th:only-of-type {\n",
       "        vertical-align: middle;\n",
       "    }\n",
       "\n",
       "    .dataframe tbody tr th {\n",
       "        vertical-align: top;\n",
       "    }\n",
       "\n",
       "    .dataframe thead th {\n",
       "        text-align: right;\n",
       "    }\n",
       "</style>\n",
       "<table border=\"1\" class=\"dataframe\">\n",
       "  <thead>\n",
       "    <tr style=\"text-align: right;\">\n",
       "      <th></th>\n",
       "      <th>device_mobile</th>\n",
       "      <th>device_computer</th>\n",
       "      <th>device_tablet</th>\n",
       "    </tr>\n",
       "  </thead>\n",
       "  <tbody>\n",
       "    <tr>\n",
       "      <th>0</th>\n",
       "      <td>1</td>\n",
       "      <td>0</td>\n",
       "      <td>0</td>\n",
       "    </tr>\n",
       "    <tr>\n",
       "      <th>1</th>\n",
       "      <td>1</td>\n",
       "      <td>0</td>\n",
       "      <td>0</td>\n",
       "    </tr>\n",
       "    <tr>\n",
       "      <th>2</th>\n",
       "      <td>1</td>\n",
       "      <td>0</td>\n",
       "      <td>0</td>\n",
       "    </tr>\n",
       "    <tr>\n",
       "      <th>3</th>\n",
       "      <td>1</td>\n",
       "      <td>0</td>\n",
       "      <td>0</td>\n",
       "    </tr>\n",
       "    <tr>\n",
       "      <th>4</th>\n",
       "      <td>0</td>\n",
       "      <td>0</td>\n",
       "      <td>1</td>\n",
       "    </tr>\n",
       "    <tr>\n",
       "      <th>...</th>\n",
       "      <td>...</td>\n",
       "      <td>...</td>\n",
       "      <td>...</td>\n",
       "    </tr>\n",
       "    <tr>\n",
       "      <th>455396</th>\n",
       "      <td>1</td>\n",
       "      <td>0</td>\n",
       "      <td>0</td>\n",
       "    </tr>\n",
       "    <tr>\n",
       "      <th>455397</th>\n",
       "      <td>1</td>\n",
       "      <td>0</td>\n",
       "      <td>0</td>\n",
       "    </tr>\n",
       "    <tr>\n",
       "      <th>455398</th>\n",
       "      <td>1</td>\n",
       "      <td>0</td>\n",
       "      <td>0</td>\n",
       "    </tr>\n",
       "    <tr>\n",
       "      <th>455399</th>\n",
       "      <td>1</td>\n",
       "      <td>0</td>\n",
       "      <td>0</td>\n",
       "    </tr>\n",
       "    <tr>\n",
       "      <th>455400</th>\n",
       "      <td>1</td>\n",
       "      <td>0</td>\n",
       "      <td>0</td>\n",
       "    </tr>\n",
       "  </tbody>\n",
       "</table>\n",
       "<p>455401 rows × 3 columns</p>\n",
       "</div>"
      ],
      "text/plain": [
       "        device_mobile  device_computer  device_tablet\n",
       "0                   1                0              0\n",
       "1                   1                0              0\n",
       "2                   1                0              0\n",
       "3                   1                0              0\n",
       "4                   0                0              1\n",
       "...               ...              ...            ...\n",
       "455396              1                0              0\n",
       "455397              1                0              0\n",
       "455398              1                0              0\n",
       "455399              1                0              0\n",
       "455400              1                0              0\n",
       "\n",
       "[455401 rows x 3 columns]"
      ]
     },
     "execution_count": 44,
     "metadata": {},
     "output_type": "execute_result"
    }
   ],
   "source": [
    "df.loc[:,['device_mobile','device_computer','device_tablet']]"
   ]
  },
  {
   "cell_type": "markdown",
   "metadata": {},
   "source": [
    "- 유저들이 페이지에 접속하는 기기 유형 조사(비율)"
   ]
  },
  {
   "cell_type": "code",
   "execution_count": 52,
   "metadata": {},
   "outputs": [
    {
     "name": "stdout",
     "output_type": "stream",
     "text": [
      "device_mobile: 0.6807055759649189\n",
      "device_computer: 0.19422003904251417\n",
      "device_tablet: 0.12836379366755893\n"
     ]
    }
   ],
   "source": [
    "device_list=['device_mobile','device_computer','device_tablet']\n",
    "dx=df.loc[:,['device_mobile','device_computer','device_tablet']]\n",
    "\n",
    "for list in device_list:\n",
    "    \n",
    "    print(f\"{list}:\",dx.query(f\"{list} == 1\").shape[0]/df.shape[0])"
   ]
  },
  {
   "cell_type": "markdown",
   "metadata": {},
   "source": [
    "결론:모바일로 들어오는 유저의 비율이 월등히 높다. \n",
    "각 기기별로 구매율은 어떻게 될까?  \n",
    "전체 구매율을 높이고자하면, 구매율이 더 낮은 기기의 UI/UX를 개선해야한다고 생각한다.\n",
    "단 태블릿의 UI는 모바일과 같다고 가정한다."
   ]
  },
  {
   "cell_type": "code",
   "execution_count": 70,
   "metadata": {},
   "outputs": [
    {
     "name": "stdout",
     "output_type": "stream",
     "text": [
      "모바일화면(app)구매비율: 0    0.962004\n",
      "1    0.037996\n",
      "Name: ordered, dtype: float64\n",
      "pc화면 구매비율: 0    0.937986\n",
      "1    0.062014\n",
      "Name: ordered, dtype: float64\n"
     ]
    }
   ],
   "source": [
    "print(f\"모바일화면(app)구매비율:\",df.query(\"device_mobile==1 | device_tablet==1\")['ordered'].value_counts(normalize=True))\n",
    "print(f\"pc화면 구매비율:\",df.query(\"device_computer==1\")['ordered'].value_counts(normalize=True))\n"
   ]
  },
  {
   "cell_type": "markdown",
   "metadata": {},
   "source": [
    "결론: 구매율이 pc가 더 높으므로 모바일UI/UX에 특장점을 주는 action을 이어가면 좋을것같다."
   ]
  },
  {
   "cell_type": "markdown",
   "metadata": {},
   "source": [
    "-------------\n",
    "- 2.프로모션 배너 클릭비율\n",
    "    \n",
    "    "
   ]
  },
  {
   "cell_type": "code",
   "execution_count": 63,
   "metadata": {},
   "outputs": [
    {
     "data": {
      "text/plain": [
       "0    0.983792\n",
       "1    0.016208\n",
       "Name: promo_banner_click, dtype: float64"
      ]
     },
     "execution_count": 63,
     "metadata": {},
     "output_type": "execute_result"
    }
   ],
   "source": [
    "df['promo_banner_click'].value_counts(normalize=True)"
   ]
  },
  {
   "cell_type": "markdown",
   "metadata": {},
   "source": [
    "프로모션 배너는 사람들의 구매를 촉진시키는 역할을 한다.\n",
    "\n",
    "프로모션 배너를 클릭하는 비율이 적다.  \n",
    "배너를 좀더 유저들이 자주클릭하는곳에 위치시키거나, 광고타이밍에 위치시키기, 화면이 넘어가도 변하지않는 고정위치에 있게하는것이 클릭율을 높이게 하는데 도움이될수있을것같다  \n",
    "\n",
    "+ 그렇다면 프로모션 배너를 클릭하는것이 실제 구매율에 도움이 됬을까?"
   ]
  },
  {
   "cell_type": "code",
   "execution_count": 57,
   "metadata": {},
   "outputs": [
    {
     "data": {
      "text/plain": [
       "0    436308\n",
       "1     19093\n",
       "Name: ordered, dtype: int64"
      ]
     },
     "execution_count": 57,
     "metadata": {},
     "output_type": "execute_result"
    }
   ],
   "source": [
    "df['ordered'].value_counts()"
   ]
  },
  {
   "cell_type": "code",
   "execution_count": 72,
   "metadata": {},
   "outputs": [
    {
     "data": {
      "text/plain": [
       "0    0.958074\n",
       "1    0.041926\n",
       "Name: ordered, dtype: float64"
      ]
     },
     "execution_count": 72,
     "metadata": {},
     "output_type": "execute_result"
    }
   ],
   "source": [
    "df['ordered'].value_counts(normalize=True)"
   ]
  },
  {
   "cell_type": "markdown",
   "metadata": {},
   "source": [
    "총 구매한 사람 19093명 , 4프로의 구매율"
   ]
  },
  {
   "cell_type": "code",
   "execution_count": 60,
   "metadata": {},
   "outputs": [
    {
     "data": {
      "text/plain": [
       "0    6420\n",
       "1     961\n",
       "Name: ordered, dtype: int64"
      ]
     },
     "execution_count": 60,
     "metadata": {},
     "output_type": "execute_result"
    }
   ],
   "source": [
    "df.query('promo_banner_click==1')['ordered'].value_counts()"
   ]
  },
  {
   "cell_type": "code",
   "execution_count": 71,
   "metadata": {},
   "outputs": [
    {
     "data": {
      "text/plain": [
       "0    0.869801\n",
       "1    0.130199\n",
       "Name: ordered, dtype: float64"
      ]
     },
     "execution_count": 71,
     "metadata": {},
     "output_type": "execute_result"
    }
   ],
   "source": [
    "df.query('promo_banner_click==1')['ordered'].value_counts(normalize=True)"
   ]
  },
  {
   "cell_type": "markdown",
   "metadata": {},
   "source": [
    "프로모션 배너를 클릭한 사람중 구매한사람 961명,  13프로의 구매율!!"
   ]
  },
  {
   "cell_type": "markdown",
   "metadata": {},
   "source": [
    "결론:"
   ]
  },
  {
   "cell_type": "markdown",
   "metadata": {},
   "source": [
    "-----------------------\n",
    "- 3.홈페이지 접속 & 구매페이지 접속\n"
   ]
  },
  {
   "cell_type": "code",
   "execution_count": 6,
   "metadata": {},
   "outputs": [
    {
     "data": {
      "text/plain": [
       "455401"
      ]
     },
     "execution_count": 6,
     "metadata": {},
     "output_type": "execute_result"
    }
   ],
   "source": [
    "df.shape[0]"
   ]
  },
  {
   "cell_type": "code",
   "execution_count": 8,
   "metadata": {},
   "outputs": [
    {
     "data": {
      "text/plain": [
       "132077"
      ]
     },
     "execution_count": 8,
     "metadata": {},
     "output_type": "execute_result"
    }
   ],
   "source": [
    "df.query('saw_homepage==1').shape[0]  "
   ]
  },
  {
   "cell_type": "code",
   "execution_count": 73,
   "metadata": {},
   "outputs": [
    {
     "data": {
      "text/plain": [
       "0    108843\n",
       "1     23234\n",
       "Name: sign_in, dtype: int64"
      ]
     },
     "execution_count": 73,
     "metadata": {},
     "output_type": "execute_result"
    }
   ],
   "source": [
    "df.query('saw_homepage==1')['sign_in'].value_counts()"
   ]
  },
  {
   "cell_type": "code",
   "execution_count": 15,
   "metadata": {},
   "outputs": [
    {
     "data": {
      "text/plain": [
       "0    120005\n",
       "1     12072\n",
       "Name: ordered, dtype: int64"
      ]
     },
     "execution_count": 15,
     "metadata": {},
     "output_type": "execute_result"
    }
   ],
   "source": [
    "df.query('saw_homepage==1')['ordered'].value_counts()"
   ]
  },
  {
   "cell_type": "code",
   "execution_count": 18,
   "metadata": {},
   "outputs": [
    {
     "data": {
      "text/plain": [
       "<AxesSubplot:>"
      ]
     },
     "execution_count": 18,
     "metadata": {},
     "output_type": "execute_result"
    },
    {
     "data": {
      "image/png": "[encoded data removed]",
      "text/plain": [
       "<Figure size 640x480 with 1 Axes>"
      ]
     },
     "metadata": {},
     "output_type": "display_data"
    }
   ],
   "source": [
    "dx=df.query('saw_homepage==1')['ordered']\n",
    "import seaborn as sns\n",
    "sns.barplot(x=dx.value_counts(normalize=True).index, y=dx.value_counts(normalize=True).values)\n"
   ]
  },
  {
   "cell_type": "markdown",
   "metadata": {},
   "source": [
    "- 홈페이지를 방문한 사람들중 구매안한사람 90프로 10프로"
   ]
  },
  {
   "cell_type": "markdown",
   "metadata": {},
   "source": [
    "------------"
   ]
  },
  {
   "cell_type": "code",
   "execution_count": null,
   "metadata": {},
   "outputs": [],
   "source": []
  },
  {
   "cell_type": "markdown",
   "metadata": {},
   "source": [
    "- 홈페이지를 방문한사람들중 로그인한사람 23234 안한사람 108843"
   ]
  },
  {
   "cell_type": "markdown",
   "metadata": {},
   "source": [
    "---\n",
    "- 목표: ordered =>주문량을 늘리는것 or saw_homepage => 구매홈페이지"
   ]
  },
  {
   "cell_type": "markdown",
   "metadata": {},
   "source": [
    "- case를 나눌수있는부분\n",
    "    - 데이터셋을 나눠서 1주일전 로그 , 지금 로그 로 참작\n"
   ]
  }
 ],
 "metadata": {
  "kernelspec": {
   "display_name": "base",
   "language": "python",
   "name": "python3"
  },
  "language_info": {
   "codemirror_mode": {
    "name": "ipython",
    "version": 3
   },
   "file_extension": ".py",
   "mimetype": "text/x-python",
   "name": "python",
   "nbconvert_exporter": "python",
   "pygments_lexer": "ipython3",
   "version": "3.9.13"
  }
 },
 "nbformat": 4,
 "nbformat_minor": 2
}
