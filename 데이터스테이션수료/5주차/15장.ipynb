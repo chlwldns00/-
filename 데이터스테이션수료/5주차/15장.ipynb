{
 "cells": [
  {
   "cell_type": "markdown",
   "metadata": {},
   "source": [
    "## 15.1머신러닝 모델 개요"
   ]
  },
  {
   "cell_type": "markdown",
   "metadata": {},
   "source": [
    "### 1.머신러닝이란?"
   ]
  },
  {
   "cell_type": "markdown",
   "metadata": {},
   "source": [
    "- 예측변수(피처값)-> 다양한머신러닝모델(이진분류,의사결정트리,회귀모델,등등) -> 타겟변수(레이블값)"
   ]
  },
  {
   "cell_type": "markdown",
   "metadata": {},
   "source": [
    "### 2.머신러닝은 데이터분석의 과정에서 어느 부분에서 쓰일까?"
   ]
  },
  {
   "cell_type": "markdown",
   "metadata": {},
   "source": [
    "- 데이터 전처리 및 탐색\n",
    "    - 결측값 처리, 이상치 탐지, 데이터 스케일링, 특성 추출 및 선택 등의 작업에서 머신러닝 알고리즘이 적용\n",
    "- 모델 학습\n",
    "    - 다양한 머신러닝 알고리즘(모델)을 사용하여 피처들과 목표 변수(레이블값) 간의 관계를 모델링하고 학습\n",
    "- 모델 평가 및 검증\n",
    "    - 학습된 모델의 성능을 평가하고 검증하는 데 머신러닝 알고리즘이 사용된다. ex) cross validation(), predict() 등등\n",
    "- 예측 및 추론\n",
    "    - 학습된 모델을 사용하여 새로운 데이터에 대한 예측을 수행(새로운 예측변수값으로 미리 학습된 모델에대한 예측값(타겟변수) 예측)\n",
    "- 모델 개선 및 최적화\n",
    "    - 모델의 성능을 향상시키기 위해 머신러닝 기술이 사용 -> 하이퍼파라미터 튜닝, 앙상블 학습, feature engineering 등등\n",
    "    "
   ]
  },
  {
   "cell_type": "markdown",
   "metadata": {},
   "source": [
    "---------------\n",
    "## 15.2 소득예측모델 만들기"
   ]
  },
  {
   "cell_type": "markdown",
   "metadata": {},
   "source": [
    "### 1. 데이터 전처리"
   ]
  },
  {
   "cell_type": "markdown",
   "metadata": {},
   "source": [
    "- a.15개의 변수들중, income변수를 레이블 변수, 나머지 14개 변수를 피처변수로 select"
   ]
  },
  {
   "cell_type": "code",
   "execution_count": 2,
   "metadata": {},
   "outputs": [
    {
     "name": "stdout",
     "output_type": "stream",
     "text": [
      "<class 'pandas.core.frame.DataFrame'>\n",
      "RangeIndex: 48842 entries, 0 to 48841\n",
      "Data columns (total 15 columns):\n",
      " #   Column          Non-Null Count  Dtype \n",
      "---  ------          --------------  ----- \n",
      " 0   age             48842 non-null  int64 \n",
      " 1   workclass       48842 non-null  object\n",
      " 2   fnlwgt          48842 non-null  int64 \n",
      " 3   education       48842 non-null  object\n",
      " 4   education_num   48842 non-null  int64 \n",
      " 5   marital_status  48842 non-null  object\n",
      " 6   occupation      48842 non-null  object\n",
      " 7   relationship    48842 non-null  object\n",
      " 8   race            48842 non-null  object\n",
      " 9   sex             48842 non-null  object\n",
      " 10  capital_gain    48842 non-null  int64 \n",
      " 11  capital_loss    48842 non-null  int64 \n",
      " 12  hours_per_week  48842 non-null  int64 \n",
      " 13  native_country  48842 non-null  object\n",
      " 14  income          48842 non-null  object\n",
      "dtypes: int64(6), object(9)\n",
      "memory usage: 5.6+ MB\n"
     ]
    }
   ],
   "source": [
    "import pandas as pd\n",
    "df = pd.read_csv('../Data/adult.csv')\n",
    "df.info()"
   ]
  },
  {
   "cell_type": "markdown",
   "metadata": {},
   "source": [
    "- b. 결측지가 없으므로, 결측지 처리는 해줄필요 없고, 레이블값과 피처 변수들을 분리해서 저장해준다.\n",
    "    - 타겟변수 전처리\n",
    "    - 예측변수 전처리"
   ]
  },
  {
   "cell_type": "markdown",
   "metadata": {},
   "source": [
    "- 타겟변수 전처리"
   ]
  },
  {
   "cell_type": "code",
   "execution_count": 3,
   "metadata": {},
   "outputs": [
    {
     "data": {
      "text/plain": [
       "<=50K    37155\n",
       ">50K     11687\n",
       "Name: income, dtype: int64"
      ]
     },
     "execution_count": 3,
     "metadata": {},
     "output_type": "execute_result"
    }
   ],
   "source": [
    "df['income'].value_counts()"
   ]
  },
  {
   "cell_type": "code",
   "execution_count": null,
   "metadata": {},
   "outputs": [],
   "source": []
  },
  {
   "cell_type": "markdown",
   "metadata": {},
   "source": [
    "**머신러닝에 활용되는 변수들은 전부 숫자 자료형이여야 한다 => 전처리 과정중 인코딩이 중요한 이유**"
   ]
  },
  {
   "cell_type": "markdown",
   "metadata": {},
   "source": [
    "**타겟변수가 범주형 변수이고, 0,1형태로 안되있기때문에 원핫인코딩으로 머신러닝모델에 넣을수있는형태로 변환**"
   ]
  },
  {
   "cell_type": "code",
   "execution_count": null,
   "metadata": {},
   "outputs": [],
   "source": [
    "target_y=df['income']\n",
    "#features_x=df.drop(columns='income')\n",
    "\n"
   ]
  }
 ],
 "metadata": {
  "kernelspec": {
   "display_name": "base",
   "language": "python",
   "name": "python3"
  },
  "language_info": {
   "codemirror_mode": {
    "name": "ipython",
    "version": 3
   },
   "file_extension": ".py",
   "mimetype": "text/x-python",
   "name": "python",
   "nbconvert_exporter": "python",
   "pygments_lexer": "ipython3",
   "version": "3.9.13"
  }
 },
 "nbformat": 4,
 "nbformat_minor": 2
}
