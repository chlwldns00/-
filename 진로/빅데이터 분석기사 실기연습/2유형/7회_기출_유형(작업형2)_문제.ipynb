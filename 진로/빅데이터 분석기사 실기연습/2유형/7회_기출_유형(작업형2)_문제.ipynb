{
  "nbformat": 4,
  "nbformat_minor": 0,
  "metadata": {
    "colab": {
      "provenance": []
    },
    "kernelspec": {
      "name": "python3",
      "display_name": "Python 3"
    },
    "language_info": {
      "name": "python"
    }
  },
  "cells": [
    {
      "cell_type": "markdown",
      "source": [
        "### mart 판매 데이터를 기반으로 판매액을 예측하시오.\n",
        "- 제공된 데이터 목록: mart_train.csv (훈련 데이터), mart_test.csv (평가용 데이터)\n",
        "- 예측할 컬럼: total (총 판매액)\n",
        "학습용 데이터(mart_train.csv)를 이용하여 총 판매액을 예측하는 모델을 만든 후, 이를 평가용 데이터(mart_test.csv)에 적용하여 얻은 예측값을 다음과 같은 형식의 CSV 파일로 생성하시오.\n",
        "- 제출 파일은 다음 한 개의 컬럼을 포함해야 합니다.\n",
        "- pred: 예측된 총 판매액\n",
        "- 제출 파일명: 'result.csv'\n",
        "- 제출한 모델의 성능은 RMSE(Root Mean Square Error) 평가지표에 따라 채점한다.\n",
        "- 제출 CSV 파일명 및 형태: result.csv\n",
        "\n",
        "~~~\n",
        "pred\n",
        "10000\n",
        "20000\n",
        "30000\n",
        "40000\n",
        "...\n",
        "~~~\n",
        "\n",
        "### 답안 제출 참고\n",
        "- pd.read_csv('result.csv') 로 제출 코드 확인"
      ],
      "metadata": {
        "id": "KBEr9K-lV_M6"
      }
    },
    {
      "cell_type": "markdown",
      "source": [
        "# 1. 문제정의\n",
        "- RMSE\n",
        "- target: total\n",
        "- 예측 파일명: result.csv\n",
        "- 컬럼 1개(pred)"
      ],
      "metadata": {
        "id": "Ae4v-2ju1mWi"
      }
    },
    {
      "cell_type": "markdown",
      "source": [
        "# 2. 라이브러리 및 데이터 불러오기"
      ],
      "metadata": {
        "id": "qgSesVv_1qP_"
      }
    },
    {
      "cell_type": "code",
      "source": [
        "# 데이터 불러오기\n",
        "import pandas as pd\n",
        "train = pd.read_csv(\"mart_train.csv\")\n",
        "test = pd.read_csv(\"mart_test.csv\")"
      ],
      "metadata": {
        "id": "30wq46-FfSt_"
      },
      "execution_count": 2,
      "outputs": []
    },
    {
      "cell_type": "markdown",
      "source": [
        "# 3. 탐색적 데이터 분석(EDA)"
      ],
      "metadata": {
        "id": "3dAHY3V1lWxV"
      }
    },
    {
      "cell_type": "code",
      "source": [
        "# 데이터 크기 확인\n",
        "print(train.shape)\n",
        "print(test.shape)"
      ],
      "metadata": {
        "id": "0YRdxQxifwf9",
        "outputId": "86e61e5c-4824-4403-b3df-e92d2d1df892",
        "colab": {
          "base_uri": "https://localhost:8080/"
        }
      },
      "execution_count": 3,
      "outputs": [
        {
          "output_type": "stream",
          "name": "stdout",
          "text": [
            "(700, 10)\n",
            "(300, 9)\n"
          ]
        }
      ]
    },
    {
      "cell_type": "code",
      "source": [
        "# train 샘플 확인\n",
        "print(train.head())"
      ],
      "metadata": {
        "id": "F_k-MGd-f4Iw",
        "outputId": "891df9c6-85d7-458a-82f0-ae5477177efa",
        "colab": {
          "base_uri": "https://localhost:8080/"
        }
      },
      "execution_count": 4,
      "outputs": [
        {
          "output_type": "stream",
          "name": "stdout",
          "text": [
            "  branch       city customer_type  gender            product_line      total  \\\n",
            "0      A     Yangon        Member  Female       Health and beauty  823457.25   \n",
            "1      C  Naypyitaw        Normal  Female  Electronic accessories  120330.00   \n",
            "2      A     Yangon        Normal    Male      Home and lifestyle  510788.25   \n",
            "3      A     Yangon        Member    Male       Health and beauty  733572.00   \n",
            "4      A     Yangon        Normal    Male       Sports and travel  951567.75   \n",
            "\n",
            "  payment_method  rating time_of_day  day_name  \n",
            "0        Ewallet     9.1   afternoon  Saturday  \n",
            "1           Cash     9.6     morning    Friday  \n",
            "2    Credit card     7.4   afternoon    Sunday  \n",
            "3        Ewallet     8.4     evening    Sunday  \n",
            "4        Ewallet     5.3     morning    Friday  \n"
          ]
        }
      ]
    },
    {
      "cell_type": "code",
      "source": [
        "# test 샘플 확인\n",
        "print(test.head())"
      ],
      "metadata": {
        "id": "pKT3QURYykAP",
        "outputId": "aa9b6084-a221-4806-c7fc-69ac482b6996",
        "colab": {
          "base_uri": "https://localhost:8080/"
        }
      },
      "execution_count": 5,
      "outputs": [
        {
          "output_type": "stream",
          "name": "stdout",
          "text": [
            "  branch       city customer_type  gender         product_line payment_method  \\\n",
            "0      C  Naypyitaw        Normal  Female  Fashion accessories        Ewallet   \n",
            "1      B   Mandalay        Normal    Male   Food and beverages    Credit card   \n",
            "2      B   Mandalay        Member  Female  Fashion accessories    Credit card   \n",
            "3      B   Mandalay        Member    Male    Health and beauty           Cash   \n",
            "4      B   Mandalay        Member  Female   Home and lifestyle           Cash   \n",
            "\n",
            "   rating time_of_day   day_name  \n",
            "0     9.6   afternoon   Thursday  \n",
            "1     4.3     evening  Wednesday  \n",
            "2     5.0     evening  Wednesday  \n",
            "3     9.2     morning     Sunday  \n",
            "4     6.3   afternoon   Saturday  \n"
          ]
        }
      ]
    },
    {
      "cell_type": "code",
      "source": [
        "# 자료형 확인\n",
        "train.info()"
      ],
      "metadata": {
        "id": "FIRfcqHVgPxr",
        "outputId": "4e36e223-532c-40b0-f90e-e8f95292776d",
        "colab": {
          "base_uri": "https://localhost:8080/"
        }
      },
      "execution_count": 6,
      "outputs": [
        {
          "output_type": "stream",
          "name": "stdout",
          "text": [
            "<class 'pandas.core.frame.DataFrame'>\n",
            "RangeIndex: 700 entries, 0 to 699\n",
            "Data columns (total 10 columns):\n",
            " #   Column          Non-Null Count  Dtype  \n",
            "---  ------          --------------  -----  \n",
            " 0   branch          700 non-null    object \n",
            " 1   city            700 non-null    object \n",
            " 2   customer_type   700 non-null    object \n",
            " 3   gender          700 non-null    object \n",
            " 4   product_line    700 non-null    object \n",
            " 5   total           700 non-null    float64\n",
            " 6   payment_method  700 non-null    object \n",
            " 7   rating          700 non-null    float64\n",
            " 8   time_of_day     700 non-null    object \n",
            " 9   day_name        700 non-null    object \n",
            "dtypes: float64(2), object(8)\n",
            "memory usage: 54.8+ KB\n"
          ]
        }
      ]
    },
    {
      "cell_type": "code",
      "source": [
        "# train 기초 통계값 확인\n",
        "train.describe()"
      ],
      "metadata": {
        "id": "q1hofG4HinUJ",
        "outputId": "2674edf4-009e-4738-ae52-9606db505d75",
        "colab": {
          "base_uri": "https://localhost:8080/",
          "height": 300
        }
      },
      "execution_count": 7,
      "outputs": [
        {
          "output_type": "execute_result",
          "data": {
            "text/plain": [
              "              total      rating\n",
              "count  7.000000e+02  700.000000\n",
              "mean   4.850780e+05    7.003429\n",
              "std    3.643907e+05    1.713078\n",
              "min    1.904175e+04    4.000000\n",
              "25%    2.001195e+05    5.500000\n",
              "50%    3.818745e+05    7.000000\n",
              "75%    7.061276e+05    8.425000\n",
              "max    1.563975e+06   10.000000"
            ],
            "text/html": [
              "\n",
              "  <div id=\"df-febe9534-33ab-4e24-a3ec-f2f151de9270\" class=\"colab-df-container\">\n",
              "    <div>\n",
              "<style scoped>\n",
              "    .dataframe tbody tr th:only-of-type {\n",
              "        vertical-align: middle;\n",
              "    }\n",
              "\n",
              "    .dataframe tbody tr th {\n",
              "        vertical-align: top;\n",
              "    }\n",
              "\n",
              "    .dataframe thead th {\n",
              "        text-align: right;\n",
              "    }\n",
              "</style>\n",
              "<table border=\"1\" class=\"dataframe\">\n",
              "  <thead>\n",
              "    <tr style=\"text-align: right;\">\n",
              "      <th></th>\n",
              "      <th>total</th>\n",
              "      <th>rating</th>\n",
              "    </tr>\n",
              "  </thead>\n",
              "  <tbody>\n",
              "    <tr>\n",
              "      <th>count</th>\n",
              "      <td>7.000000e+02</td>\n",
              "      <td>700.000000</td>\n",
              "    </tr>\n",
              "    <tr>\n",
              "      <th>mean</th>\n",
              "      <td>4.850780e+05</td>\n",
              "      <td>7.003429</td>\n",
              "    </tr>\n",
              "    <tr>\n",
              "      <th>std</th>\n",
              "      <td>3.643907e+05</td>\n",
              "      <td>1.713078</td>\n",
              "    </tr>\n",
              "    <tr>\n",
              "      <th>min</th>\n",
              "      <td>1.904175e+04</td>\n",
              "      <td>4.000000</td>\n",
              "    </tr>\n",
              "    <tr>\n",
              "      <th>25%</th>\n",
              "      <td>2.001195e+05</td>\n",
              "      <td>5.500000</td>\n",
              "    </tr>\n",
              "    <tr>\n",
              "      <th>50%</th>\n",
              "      <td>3.818745e+05</td>\n",
              "      <td>7.000000</td>\n",
              "    </tr>\n",
              "    <tr>\n",
              "      <th>75%</th>\n",
              "      <td>7.061276e+05</td>\n",
              "      <td>8.425000</td>\n",
              "    </tr>\n",
              "    <tr>\n",
              "      <th>max</th>\n",
              "      <td>1.563975e+06</td>\n",
              "      <td>10.000000</td>\n",
              "    </tr>\n",
              "  </tbody>\n",
              "</table>\n",
              "</div>\n",
              "    <div class=\"colab-df-buttons\">\n",
              "\n",
              "  <div class=\"colab-df-container\">\n",
              "    <button class=\"colab-df-convert\" onclick=\"convertToInteractive('df-febe9534-33ab-4e24-a3ec-f2f151de9270')\"\n",
              "            title=\"Convert this dataframe to an interactive table.\"\n",
              "            style=\"display:none;\">\n",
              "\n",
              "  <svg xmlns=\"http://www.w3.org/2000/svg\" height=\"24px\" viewBox=\"0 -960 960 960\">\n",
              "    <path d=\"M120-120v-720h720v720H120Zm60-500h600v-160H180v160Zm220 220h160v-160H400v160Zm0 220h160v-160H400v160ZM180-400h160v-160H180v160Zm440 0h160v-160H620v160ZM180-180h160v-160H180v160Zm440 0h160v-160H620v160Z\"/>\n",
              "  </svg>\n",
              "    </button>\n",
              "\n",
              "  <style>\n",
              "    .colab-df-container {\n",
              "      display:flex;\n",
              "      gap: 12px;\n",
              "    }\n",
              "\n",
              "    .colab-df-convert {\n",
              "      background-color: #E8F0FE;\n",
              "      border: none;\n",
              "      border-radius: 50%;\n",
              "      cursor: pointer;\n",
              "      display: none;\n",
              "      fill: #1967D2;\n",
              "      height: 32px;\n",
              "      padding: 0 0 0 0;\n",
              "      width: 32px;\n",
              "    }\n",
              "\n",
              "    .colab-df-convert:hover {\n",
              "      background-color: #E2EBFA;\n",
              "      box-shadow: 0px 1px 2px rgba(60, 64, 67, 0.3), 0px 1px 3px 1px rgba(60, 64, 67, 0.15);\n",
              "      fill: #174EA6;\n",
              "    }\n",
              "\n",
              "    .colab-df-buttons div {\n",
              "      margin-bottom: 4px;\n",
              "    }\n",
              "\n",
              "    [theme=dark] .colab-df-convert {\n",
              "      background-color: #3B4455;\n",
              "      fill: #D2E3FC;\n",
              "    }\n",
              "\n",
              "    [theme=dark] .colab-df-convert:hover {\n",
              "      background-color: #434B5C;\n",
              "      box-shadow: 0px 1px 3px 1px rgba(0, 0, 0, 0.15);\n",
              "      filter: drop-shadow(0px 1px 2px rgba(0, 0, 0, 0.3));\n",
              "      fill: #FFFFFF;\n",
              "    }\n",
              "  </style>\n",
              "\n",
              "    <script>\n",
              "      const buttonEl =\n",
              "        document.querySelector('#df-febe9534-33ab-4e24-a3ec-f2f151de9270 button.colab-df-convert');\n",
              "      buttonEl.style.display =\n",
              "        google.colab.kernel.accessAllowed ? 'block' : 'none';\n",
              "\n",
              "      async function convertToInteractive(key) {\n",
              "        const element = document.querySelector('#df-febe9534-33ab-4e24-a3ec-f2f151de9270');\n",
              "        const dataTable =\n",
              "          await google.colab.kernel.invokeFunction('convertToInteractive',\n",
              "                                                    [key], {});\n",
              "        if (!dataTable) return;\n",
              "\n",
              "        const docLinkHtml = 'Like what you see? Visit the ' +\n",
              "          '<a target=\"_blank\" href=https://colab.research.google.com/notebooks/data_table.ipynb>data table notebook</a>'\n",
              "          + ' to learn more about interactive tables.';\n",
              "        element.innerHTML = '';\n",
              "        dataTable['output_type'] = 'display_data';\n",
              "        await google.colab.output.renderOutput(dataTable, element);\n",
              "        const docLink = document.createElement('div');\n",
              "        docLink.innerHTML = docLinkHtml;\n",
              "        element.appendChild(docLink);\n",
              "      }\n",
              "    </script>\n",
              "  </div>\n",
              "\n",
              "\n",
              "<div id=\"df-ecd4bd8d-b44d-4313-a4d8-c2e8e7e427d7\">\n",
              "  <button class=\"colab-df-quickchart\" onclick=\"quickchart('df-ecd4bd8d-b44d-4313-a4d8-c2e8e7e427d7')\"\n",
              "            title=\"Suggest charts\"\n",
              "            style=\"display:none;\">\n",
              "\n",
              "<svg xmlns=\"http://www.w3.org/2000/svg\" height=\"24px\"viewBox=\"0 0 24 24\"\n",
              "     width=\"24px\">\n",
              "    <g>\n",
              "        <path d=\"M19 3H5c-1.1 0-2 .9-2 2v14c0 1.1.9 2 2 2h14c1.1 0 2-.9 2-2V5c0-1.1-.9-2-2-2zM9 17H7v-7h2v7zm4 0h-2V7h2v10zm4 0h-2v-4h2v4z\"/>\n",
              "    </g>\n",
              "</svg>\n",
              "  </button>\n",
              "\n",
              "<style>\n",
              "  .colab-df-quickchart {\n",
              "      --bg-color: #E8F0FE;\n",
              "      --fill-color: #1967D2;\n",
              "      --hover-bg-color: #E2EBFA;\n",
              "      --hover-fill-color: #174EA6;\n",
              "      --disabled-fill-color: #AAA;\n",
              "      --disabled-bg-color: #DDD;\n",
              "  }\n",
              "\n",
              "  [theme=dark] .colab-df-quickchart {\n",
              "      --bg-color: #3B4455;\n",
              "      --fill-color: #D2E3FC;\n",
              "      --hover-bg-color: #434B5C;\n",
              "      --hover-fill-color: #FFFFFF;\n",
              "      --disabled-bg-color: #3B4455;\n",
              "      --disabled-fill-color: #666;\n",
              "  }\n",
              "\n",
              "  .colab-df-quickchart {\n",
              "    background-color: var(--bg-color);\n",
              "    border: none;\n",
              "    border-radius: 50%;\n",
              "    cursor: pointer;\n",
              "    display: none;\n",
              "    fill: var(--fill-color);\n",
              "    height: 32px;\n",
              "    padding: 0;\n",
              "    width: 32px;\n",
              "  }\n",
              "\n",
              "  .colab-df-quickchart:hover {\n",
              "    background-color: var(--hover-bg-color);\n",
              "    box-shadow: 0 1px 2px rgba(60, 64, 67, 0.3), 0 1px 3px 1px rgba(60, 64, 67, 0.15);\n",
              "    fill: var(--button-hover-fill-color);\n",
              "  }\n",
              "\n",
              "  .colab-df-quickchart-complete:disabled,\n",
              "  .colab-df-quickchart-complete:disabled:hover {\n",
              "    background-color: var(--disabled-bg-color);\n",
              "    fill: var(--disabled-fill-color);\n",
              "    box-shadow: none;\n",
              "  }\n",
              "\n",
              "  .colab-df-spinner {\n",
              "    border: 2px solid var(--fill-color);\n",
              "    border-color: transparent;\n",
              "    border-bottom-color: var(--fill-color);\n",
              "    animation:\n",
              "      spin 1s steps(1) infinite;\n",
              "  }\n",
              "\n",
              "  @keyframes spin {\n",
              "    0% {\n",
              "      border-color: transparent;\n",
              "      border-bottom-color: var(--fill-color);\n",
              "      border-left-color: var(--fill-color);\n",
              "    }\n",
              "    20% {\n",
              "      border-color: transparent;\n",
              "      border-left-color: var(--fill-color);\n",
              "      border-top-color: var(--fill-color);\n",
              "    }\n",
              "    30% {\n",
              "      border-color: transparent;\n",
              "      border-left-color: var(--fill-color);\n",
              "      border-top-color: var(--fill-color);\n",
              "      border-right-color: var(--fill-color);\n",
              "    }\n",
              "    40% {\n",
              "      border-color: transparent;\n",
              "      border-right-color: var(--fill-color);\n",
              "      border-top-color: var(--fill-color);\n",
              "    }\n",
              "    60% {\n",
              "      border-color: transparent;\n",
              "      border-right-color: var(--fill-color);\n",
              "    }\n",
              "    80% {\n",
              "      border-color: transparent;\n",
              "      border-right-color: var(--fill-color);\n",
              "      border-bottom-color: var(--fill-color);\n",
              "    }\n",
              "    90% {\n",
              "      border-color: transparent;\n",
              "      border-bottom-color: var(--fill-color);\n",
              "    }\n",
              "  }\n",
              "</style>\n",
              "\n",
              "  <script>\n",
              "    async function quickchart(key) {\n",
              "      const quickchartButtonEl =\n",
              "        document.querySelector('#' + key + ' button');\n",
              "      quickchartButtonEl.disabled = true;  // To prevent multiple clicks.\n",
              "      quickchartButtonEl.classList.add('colab-df-spinner');\n",
              "      try {\n",
              "        const charts = await google.colab.kernel.invokeFunction(\n",
              "            'suggestCharts', [key], {});\n",
              "      } catch (error) {\n",
              "        console.error('Error during call to suggestCharts:', error);\n",
              "      }\n",
              "      quickchartButtonEl.classList.remove('colab-df-spinner');\n",
              "      quickchartButtonEl.classList.add('colab-df-quickchart-complete');\n",
              "    }\n",
              "    (() => {\n",
              "      let quickchartButtonEl =\n",
              "        document.querySelector('#df-ecd4bd8d-b44d-4313-a4d8-c2e8e7e427d7 button');\n",
              "      quickchartButtonEl.style.display =\n",
              "        google.colab.kernel.accessAllowed ? 'block' : 'none';\n",
              "    })();\n",
              "  </script>\n",
              "</div>\n",
              "\n",
              "    </div>\n",
              "  </div>\n"
            ],
            "application/vnd.google.colaboratory.intrinsic+json": {
              "type": "dataframe",
              "summary": "{\n  \"name\": \"train\",\n  \"rows\": 8,\n  \"fields\": [\n    {\n      \"column\": \"total\",\n      \"properties\": {\n        \"dtype\": \"number\",\n        \"std\": 502556.1091715203,\n        \"min\": 700.0,\n        \"max\": 1563975.0000000002,\n        \"num_unique_values\": 8,\n        \"samples\": [\n          485078.0175,\n          381874.5,\n          700.0\n        ],\n        \"semantic_type\": \"\",\n        \"description\": \"\"\n      }\n    },\n    {\n      \"column\": \"rating\",\n      \"properties\": {\n        \"dtype\": \"number\",\n        \"std\": 245.29657760890063,\n        \"min\": 1.7130784358474729,\n        \"max\": 700.0,\n        \"num_unique_values\": 8,\n        \"samples\": [\n          7.003428571428571,\n          7.0,\n          700.0\n        ],\n        \"semantic_type\": \"\",\n        \"description\": \"\"\n      }\n    }\n  ]\n}"
            }
          },
          "metadata": {},
          "execution_count": 7
        }
      ]
    },
    {
      "cell_type": "code",
      "source": [
        "# test 기초 통계값 확인\n"
      ],
      "metadata": {
        "id": "wsL0DtiAOnXw"
      },
      "execution_count": null,
      "outputs": []
    },
    {
      "cell_type": "code",
      "source": [
        "# train 기초 통계값 (Object)\n"
      ],
      "metadata": {
        "id": "AB_yqbISlMn-"
      },
      "execution_count": null,
      "outputs": []
    },
    {
      "cell_type": "code",
      "source": [
        "# test 기초 통계값 (Object)\n"
      ],
      "metadata": {
        "id": "xJbcsyOxlSRu"
      },
      "execution_count": null,
      "outputs": []
    },
    {
      "cell_type": "code",
      "source": [
        "# train 결측치\n",
        "train.isnull().sum()"
      ],
      "metadata": {
        "id": "HD9OAVRNnd-O",
        "outputId": "18f5e729-b712-4658-f524-6a101960c112",
        "colab": {
          "base_uri": "https://localhost:8080/"
        }
      },
      "execution_count": 10,
      "outputs": [
        {
          "output_type": "execute_result",
          "data": {
            "text/plain": [
              "branch            0\n",
              "city              0\n",
              "customer_type     0\n",
              "gender            0\n",
              "product_line      0\n",
              "total             0\n",
              "payment_method    0\n",
              "rating            0\n",
              "time_of_day       0\n",
              "day_name          0\n",
              "dtype: int64"
            ]
          },
          "metadata": {},
          "execution_count": 10
        }
      ]
    },
    {
      "cell_type": "code",
      "source": [
        "# test 결측치\n",
        "test.isnull().sum()"
      ],
      "metadata": {
        "id": "kL6lokT5neA-",
        "outputId": "30329971-6457-46b4-82d4-7914a0f73248",
        "colab": {
          "base_uri": "https://localhost:8080/"
        }
      },
      "execution_count": 11,
      "outputs": [
        {
          "output_type": "execute_result",
          "data": {
            "text/plain": [
              "branch            0\n",
              "city              0\n",
              "customer_type     0\n",
              "gender            0\n",
              "product_line      0\n",
              "payment_method    0\n",
              "rating            0\n",
              "time_of_day       0\n",
              "day_name          0\n",
              "dtype: int64"
            ]
          },
          "metadata": {},
          "execution_count": 11
        }
      ]
    },
    {
      "cell_type": "code",
      "source": [
        "# 타겟 (value_count())\n",
        "train['total'].value_counts(normalize=True)"
      ],
      "metadata": {
        "id": "nd5vn9iciu2i",
        "outputId": "19ebfc03-04cc-4e5f-9c26-2a9852f1d343",
        "colab": {
          "base_uri": "https://localhost:8080/"
        }
      },
      "execution_count": 8,
      "outputs": [
        {
          "output_type": "execute_result",
          "data": {
            "text/plain": [
              "total\n",
              "283641.75     0.002857\n",
              "263875.50     0.002857\n",
              "415422.00     0.002857\n",
              "326450.25     0.002857\n",
              "130851.00     0.002857\n",
              "                ...   \n",
              "293391.00     0.001429\n",
              "137103.75     0.001429\n",
              "348232.50     0.001429\n",
              "104107.50     0.001429\n",
              "1535625.00    0.001429\n",
              "Name: proportion, Length: 695, dtype: float64"
            ]
          },
          "metadata": {},
          "execution_count": 8
        }
      ]
    },
    {
      "cell_type": "code",
      "source": [
        "# target (분포)\n"
      ],
      "metadata": {
        "id": "a5WVQ2EFUCYL"
      },
      "execution_count": null,
      "outputs": []
    },
    {
      "cell_type": "code",
      "source": [
        "# target (분포, 시각화)\n"
      ],
      "metadata": {
        "id": "BjIBAFeOPCLW"
      },
      "execution_count": null,
      "outputs": []
    },
    {
      "cell_type": "markdown",
      "source": [
        "# 4. 데이터 전처리"
      ],
      "metadata": {
        "id": "UvVLoQBP1z5A"
      }
    },
    {
      "cell_type": "code",
      "source": [
        "# target\n",
        "target=train.pop('total')"
      ],
      "metadata": {
        "id": "C6UGliMFcMhf"
      },
      "execution_count": 12,
      "outputs": []
    },
    {
      "cell_type": "code",
      "source": [
        "# 원핫인코딩\n",
        "print(train.shape, test.shape)\n",
        "train=pd.get_dummies(train)\n",
        "test=pd.get_dummies(test)\n",
        "print(train.shape, test.shape)\n"
      ],
      "metadata": {
        "id": "nkWaHf1izCqr",
        "outputId": "e821b717-6b97-4f85-88d4-51845a1c5062",
        "colab": {
          "base_uri": "https://localhost:8080/"
        }
      },
      "execution_count": 13,
      "outputs": [
        {
          "output_type": "stream",
          "name": "stdout",
          "text": [
            "(700, 9) (300, 9)\n",
            "(700, 30) (300, 30)\n"
          ]
        }
      ]
    },
    {
      "cell_type": "markdown",
      "source": [
        "# 5. 검증 데이터 분할"
      ],
      "metadata": {
        "id": "6KND1n8b14uj"
      }
    },
    {
      "cell_type": "code",
      "source": [
        "# 검증데이터 분할\n",
        "from sklearn.model_selection import train_test_split\n",
        "X_tr, X_val, y_tr, y_val = train_test_split(train,target,test_size=0.2, random_state=2024)\n",
        "print(X_tr.shape, y_tr.shape)\n",
        "print(X_val.shape, y_val.shape)"
      ],
      "metadata": {
        "id": "qvHUGFeFhyqu",
        "outputId": "b99d8cd8-7092-410c-96e4-784e7adf9da1",
        "colab": {
          "base_uri": "https://localhost:8080/"
        }
      },
      "execution_count": 14,
      "outputs": [
        {
          "output_type": "stream",
          "name": "stdout",
          "text": [
            "(560, 30) (560,)\n",
            "(140, 30) (140,)\n"
          ]
        }
      ]
    },
    {
      "cell_type": "markdown",
      "source": [
        "# 6. 머신러닝 학습 및 평가"
      ],
      "metadata": {
        "id": "VAhoGGf-17uM"
      }
    },
    {
      "cell_type": "code",
      "source": [
        "# RMSE\n",
        "from sklearn.metrics import mean_squared_error\n",
        "def rmse(y_true,y_pred):\n",
        "  return mean_squared_error(y_true,y_pred)**0.5\n"
      ],
      "metadata": {
        "id": "Ra2PAD0YzZJN"
      },
      "execution_count": 18,
      "outputs": []
    },
    {
      "cell_type": "code",
      "source": [
        "# 선형회귀\n",
        "from sklearn.linear_model import LinearRegression\n",
        "lr=LinearRegression()\n",
        "lr.fit(X_tr,y_tr)\n",
        "pred=lr.predict(X_val)\n",
        "print(pred.shape)\n",
        "print(pred[:10])\n",
        "print(rmse(y_val,pred))"
      ],
      "metadata": {
        "id": "6B_UWz_a2pTh",
        "outputId": "0d537963-3c9e-4e45-f4dc-f650b6f6e797",
        "colab": {
          "base_uri": "https://localhost:8080/"
        }
      },
      "execution_count": 19,
      "outputs": [
        {
          "output_type": "stream",
          "name": "stdout",
          "text": [
            "(140,)\n",
            "[507509.39393016 444657.20847826 441391.89647437 648394.87878023\n",
            " 504307.48658152 538876.73315236 494515.40070588 498537.8252635\n",
            " 595614.15586321 567093.56240393]\n",
            "408435.6813769399\n"
          ]
        }
      ]
    },
    {
      "cell_type": "code",
      "source": [
        "# 랜덤포레스트\n",
        "from sklearn.ensemble import RandomForestClassifier\n",
        "rf=RandomForestClassifier(random_state=0)\n",
        "from sklearn.preprocessing import LabelEncoder\n",
        "le=LabelEncoder()\n",
        "y_tr=le.fit_transform(y_tr)\n",
        "rf.fit(X_tr,y_tr)\n",
        "pred=rf.predict(X_val)\n",
        "print(pred.shape)\n",
        "print(rmse(y_val,pred))\n"
      ],
      "metadata": {
        "id": "xA5lV-MXh3sZ",
        "outputId": "95224fd3-debf-4674-a415-2f7d7751c7ed",
        "colab": {
          "base_uri": "https://localhost:8080/"
        }
      },
      "execution_count": 22,
      "outputs": [
        {
          "output_type": "stream",
          "name": "stdout",
          "text": [
            "(140,)\n",
            "628842.0560755332\n"
          ]
        }
      ]
    },
    {
      "cell_type": "code",
      "source": [
        "# Xgboost\n"
      ],
      "metadata": {
        "id": "dQQLUXcb29eT"
      },
      "execution_count": null,
      "outputs": []
    },
    {
      "cell_type": "code",
      "source": [
        "# LightGBM\n"
      ],
      "metadata": {
        "id": "3Q8K93uM29ma"
      },
      "execution_count": null,
      "outputs": []
    },
    {
      "cell_type": "markdown",
      "source": [
        "# 7. 예측 및 결과 파일 생성"
      ],
      "metadata": {
        "id": "Cx5zX7W4iL4F"
      }
    },
    {
      "cell_type": "code",
      "source": [
        "# test예측 및 csv 생성\n",
        "pred=lr.predict(test)\n",
        "print(pred.shape)\n",
        "result=pd.DataFrame({\n",
        "    'pred':pred\n",
        "})\n",
        "result.to_csv('result.csv',index=False)\n"
      ],
      "metadata": {
        "id": "aZRKbOifiJYA",
        "outputId": "8adc34c3-b155-4326-e13e-5d9e9745bd7f",
        "colab": {
          "base_uri": "https://localhost:8080/"
        }
      },
      "execution_count": 34,
      "outputs": [
        {
          "output_type": "stream",
          "name": "stdout",
          "text": [
            "(300,)\n"
          ]
        }
      ]
    },
    {
      "cell_type": "code",
      "source": [
        "# result.csv 확인\n",
        "r=pd.read_csv('result.csv')\n",
        "r.head()"
      ],
      "metadata": {
        "id": "74VLjg8vv_Kw",
        "outputId": "212bdb17-515f-4c88-f96d-5adfbed8807d",
        "colab": {
          "base_uri": "https://localhost:8080/",
          "height": 206
        }
      },
      "execution_count": 35,
      "outputs": [
        {
          "output_type": "execute_result",
          "data": {
            "text/plain": [
              "            pred\n",
              "0  442235.174292\n",
              "1  443894.978268\n",
              "2  429116.493030\n",
              "3  506176.487154\n",
              "4  575431.899942"
            ],
            "text/html": [
              "\n",
              "  <div id=\"df-c41f171b-50f1-4f00-8de4-6ed4951ea952\" class=\"colab-df-container\">\n",
              "    <div>\n",
              "<style scoped>\n",
              "    .dataframe tbody tr th:only-of-type {\n",
              "        vertical-align: middle;\n",
              "    }\n",
              "\n",
              "    .dataframe tbody tr th {\n",
              "        vertical-align: top;\n",
              "    }\n",
              "\n",
              "    .dataframe thead th {\n",
              "        text-align: right;\n",
              "    }\n",
              "</style>\n",
              "<table border=\"1\" class=\"dataframe\">\n",
              "  <thead>\n",
              "    <tr style=\"text-align: right;\">\n",
              "      <th></th>\n",
              "      <th>pred</th>\n",
              "    </tr>\n",
              "  </thead>\n",
              "  <tbody>\n",
              "    <tr>\n",
              "      <th>0</th>\n",
              "      <td>442235.174292</td>\n",
              "    </tr>\n",
              "    <tr>\n",
              "      <th>1</th>\n",
              "      <td>443894.978268</td>\n",
              "    </tr>\n",
              "    <tr>\n",
              "      <th>2</th>\n",
              "      <td>429116.493030</td>\n",
              "    </tr>\n",
              "    <tr>\n",
              "      <th>3</th>\n",
              "      <td>506176.487154</td>\n",
              "    </tr>\n",
              "    <tr>\n",
              "      <th>4</th>\n",
              "      <td>575431.899942</td>\n",
              "    </tr>\n",
              "  </tbody>\n",
              "</table>\n",
              "</div>\n",
              "    <div class=\"colab-df-buttons\">\n",
              "\n",
              "  <div class=\"colab-df-container\">\n",
              "    <button class=\"colab-df-convert\" onclick=\"convertToInteractive('df-c41f171b-50f1-4f00-8de4-6ed4951ea952')\"\n",
              "            title=\"Convert this dataframe to an interactive table.\"\n",
              "            style=\"display:none;\">\n",
              "\n",
              "  <svg xmlns=\"http://www.w3.org/2000/svg\" height=\"24px\" viewBox=\"0 -960 960 960\">\n",
              "    <path d=\"M120-120v-720h720v720H120Zm60-500h600v-160H180v160Zm220 220h160v-160H400v160Zm0 220h160v-160H400v160ZM180-400h160v-160H180v160Zm440 0h160v-160H620v160ZM180-180h160v-160H180v160Zm440 0h160v-160H620v160Z\"/>\n",
              "  </svg>\n",
              "    </button>\n",
              "\n",
              "  <style>\n",
              "    .colab-df-container {\n",
              "      display:flex;\n",
              "      gap: 12px;\n",
              "    }\n",
              "\n",
              "    .colab-df-convert {\n",
              "      background-color: #E8F0FE;\n",
              "      border: none;\n",
              "      border-radius: 50%;\n",
              "      cursor: pointer;\n",
              "      display: none;\n",
              "      fill: #1967D2;\n",
              "      height: 32px;\n",
              "      padding: 0 0 0 0;\n",
              "      width: 32px;\n",
              "    }\n",
              "\n",
              "    .colab-df-convert:hover {\n",
              "      background-color: #E2EBFA;\n",
              "      box-shadow: 0px 1px 2px rgba(60, 64, 67, 0.3), 0px 1px 3px 1px rgba(60, 64, 67, 0.15);\n",
              "      fill: #174EA6;\n",
              "    }\n",
              "\n",
              "    .colab-df-buttons div {\n",
              "      margin-bottom: 4px;\n",
              "    }\n",
              "\n",
              "    [theme=dark] .colab-df-convert {\n",
              "      background-color: #3B4455;\n",
              "      fill: #D2E3FC;\n",
              "    }\n",
              "\n",
              "    [theme=dark] .colab-df-convert:hover {\n",
              "      background-color: #434B5C;\n",
              "      box-shadow: 0px 1px 3px 1px rgba(0, 0, 0, 0.15);\n",
              "      filter: drop-shadow(0px 1px 2px rgba(0, 0, 0, 0.3));\n",
              "      fill: #FFFFFF;\n",
              "    }\n",
              "  </style>\n",
              "\n",
              "    <script>\n",
              "      const buttonEl =\n",
              "        document.querySelector('#df-c41f171b-50f1-4f00-8de4-6ed4951ea952 button.colab-df-convert');\n",
              "      buttonEl.style.display =\n",
              "        google.colab.kernel.accessAllowed ? 'block' : 'none';\n",
              "\n",
              "      async function convertToInteractive(key) {\n",
              "        const element = document.querySelector('#df-c41f171b-50f1-4f00-8de4-6ed4951ea952');\n",
              "        const dataTable =\n",
              "          await google.colab.kernel.invokeFunction('convertToInteractive',\n",
              "                                                    [key], {});\n",
              "        if (!dataTable) return;\n",
              "\n",
              "        const docLinkHtml = 'Like what you see? Visit the ' +\n",
              "          '<a target=\"_blank\" href=https://colab.research.google.com/notebooks/data_table.ipynb>data table notebook</a>'\n",
              "          + ' to learn more about interactive tables.';\n",
              "        element.innerHTML = '';\n",
              "        dataTable['output_type'] = 'display_data';\n",
              "        await google.colab.output.renderOutput(dataTable, element);\n",
              "        const docLink = document.createElement('div');\n",
              "        docLink.innerHTML = docLinkHtml;\n",
              "        element.appendChild(docLink);\n",
              "      }\n",
              "    </script>\n",
              "  </div>\n",
              "\n",
              "\n",
              "<div id=\"df-322b37e1-6a24-4440-84de-70c5328bcb4a\">\n",
              "  <button class=\"colab-df-quickchart\" onclick=\"quickchart('df-322b37e1-6a24-4440-84de-70c5328bcb4a')\"\n",
              "            title=\"Suggest charts\"\n",
              "            style=\"display:none;\">\n",
              "\n",
              "<svg xmlns=\"http://www.w3.org/2000/svg\" height=\"24px\"viewBox=\"0 0 24 24\"\n",
              "     width=\"24px\">\n",
              "    <g>\n",
              "        <path d=\"M19 3H5c-1.1 0-2 .9-2 2v14c0 1.1.9 2 2 2h14c1.1 0 2-.9 2-2V5c0-1.1-.9-2-2-2zM9 17H7v-7h2v7zm4 0h-2V7h2v10zm4 0h-2v-4h2v4z\"/>\n",
              "    </g>\n",
              "</svg>\n",
              "  </button>\n",
              "\n",
              "<style>\n",
              "  .colab-df-quickchart {\n",
              "      --bg-color: #E8F0FE;\n",
              "      --fill-color: #1967D2;\n",
              "      --hover-bg-color: #E2EBFA;\n",
              "      --hover-fill-color: #174EA6;\n",
              "      --disabled-fill-color: #AAA;\n",
              "      --disabled-bg-color: #DDD;\n",
              "  }\n",
              "\n",
              "  [theme=dark] .colab-df-quickchart {\n",
              "      --bg-color: #3B4455;\n",
              "      --fill-color: #D2E3FC;\n",
              "      --hover-bg-color: #434B5C;\n",
              "      --hover-fill-color: #FFFFFF;\n",
              "      --disabled-bg-color: #3B4455;\n",
              "      --disabled-fill-color: #666;\n",
              "  }\n",
              "\n",
              "  .colab-df-quickchart {\n",
              "    background-color: var(--bg-color);\n",
              "    border: none;\n",
              "    border-radius: 50%;\n",
              "    cursor: pointer;\n",
              "    display: none;\n",
              "    fill: var(--fill-color);\n",
              "    height: 32px;\n",
              "    padding: 0;\n",
              "    width: 32px;\n",
              "  }\n",
              "\n",
              "  .colab-df-quickchart:hover {\n",
              "    background-color: var(--hover-bg-color);\n",
              "    box-shadow: 0 1px 2px rgba(60, 64, 67, 0.3), 0 1px 3px 1px rgba(60, 64, 67, 0.15);\n",
              "    fill: var(--button-hover-fill-color);\n",
              "  }\n",
              "\n",
              "  .colab-df-quickchart-complete:disabled,\n",
              "  .colab-df-quickchart-complete:disabled:hover {\n",
              "    background-color: var(--disabled-bg-color);\n",
              "    fill: var(--disabled-fill-color);\n",
              "    box-shadow: none;\n",
              "  }\n",
              "\n",
              "  .colab-df-spinner {\n",
              "    border: 2px solid var(--fill-color);\n",
              "    border-color: transparent;\n",
              "    border-bottom-color: var(--fill-color);\n",
              "    animation:\n",
              "      spin 1s steps(1) infinite;\n",
              "  }\n",
              "\n",
              "  @keyframes spin {\n",
              "    0% {\n",
              "      border-color: transparent;\n",
              "      border-bottom-color: var(--fill-color);\n",
              "      border-left-color: var(--fill-color);\n",
              "    }\n",
              "    20% {\n",
              "      border-color: transparent;\n",
              "      border-left-color: var(--fill-color);\n",
              "      border-top-color: var(--fill-color);\n",
              "    }\n",
              "    30% {\n",
              "      border-color: transparent;\n",
              "      border-left-color: var(--fill-color);\n",
              "      border-top-color: var(--fill-color);\n",
              "      border-right-color: var(--fill-color);\n",
              "    }\n",
              "    40% {\n",
              "      border-color: transparent;\n",
              "      border-right-color: var(--fill-color);\n",
              "      border-top-color: var(--fill-color);\n",
              "    }\n",
              "    60% {\n",
              "      border-color: transparent;\n",
              "      border-right-color: var(--fill-color);\n",
              "    }\n",
              "    80% {\n",
              "      border-color: transparent;\n",
              "      border-right-color: var(--fill-color);\n",
              "      border-bottom-color: var(--fill-color);\n",
              "    }\n",
              "    90% {\n",
              "      border-color: transparent;\n",
              "      border-bottom-color: var(--fill-color);\n",
              "    }\n",
              "  }\n",
              "</style>\n",
              "\n",
              "  <script>\n",
              "    async function quickchart(key) {\n",
              "      const quickchartButtonEl =\n",
              "        document.querySelector('#' + key + ' button');\n",
              "      quickchartButtonEl.disabled = true;  // To prevent multiple clicks.\n",
              "      quickchartButtonEl.classList.add('colab-df-spinner');\n",
              "      try {\n",
              "        const charts = await google.colab.kernel.invokeFunction(\n",
              "            'suggestCharts', [key], {});\n",
              "      } catch (error) {\n",
              "        console.error('Error during call to suggestCharts:', error);\n",
              "      }\n",
              "      quickchartButtonEl.classList.remove('colab-df-spinner');\n",
              "      quickchartButtonEl.classList.add('colab-df-quickchart-complete');\n",
              "    }\n",
              "    (() => {\n",
              "      let quickchartButtonEl =\n",
              "        document.querySelector('#df-322b37e1-6a24-4440-84de-70c5328bcb4a button');\n",
              "      quickchartButtonEl.style.display =\n",
              "        google.colab.kernel.accessAllowed ? 'block' : 'none';\n",
              "    })();\n",
              "  </script>\n",
              "</div>\n",
              "\n",
              "    </div>\n",
              "  </div>\n"
            ],
            "application/vnd.google.colaboratory.intrinsic+json": {
              "type": "dataframe",
              "variable_name": "r",
              "summary": "{\n  \"name\": \"r\",\n  \"rows\": 300,\n  \"fields\": [\n    {\n      \"column\": \"pred\",\n      \"properties\": {\n        \"dtype\": \"number\",\n        \"std\": 70285.3912654216,\n        \"min\": 286659.0063381731,\n        \"max\": 681258.3279809988,\n        \"num_unique_values\": 299,\n        \"samples\": [\n          507836.6576569037,\n          501273.6171696362,\n          449532.0596154828\n        ],\n        \"semantic_type\": \"\",\n        \"description\": \"\"\n      }\n    }\n  ]\n}"
            }
          },
          "metadata": {},
          "execution_count": 35
        }
      ]
    },
    {
      "cell_type": "code",
      "source": [],
      "metadata": {
        "id": "ZpZWC0jOPWqd"
      },
      "execution_count": null,
      "outputs": []
    },
    {
      "cell_type": "code",
      "source": [],
      "metadata": {
        "id": "KlSj3umvPWs6"
      },
      "execution_count": null,
      "outputs": []
    },
    {
      "cell_type": "markdown",
      "source": [
        "# [심화] 성능 개선"
      ],
      "metadata": {
        "id": "VyH2Xd_8Dh-B"
      }
    },
    {
      "cell_type": "code",
      "source": [
        "# 데이터 불러오기\n",
        "import pandas as pd\n",
        "train = pd.read_csv(\"mart_train.csv\")\n",
        "test = pd.read_csv(\"mart_test.csv\")\n",
        "\n",
        "# target 데이터\n",
        "\n",
        "\n",
        "# 레이블 인코딩\n",
        "\n",
        "\n",
        "# 검증데이터 분리\n",
        "\n",
        "\n",
        "# 선형회귀\n",
        "\n",
        "\n",
        "# 랜덤포레스트\n",
        "\n",
        "\n",
        "# Xgboost\n",
        "\n",
        "\n",
        "# LightGBM\n",
        "\n",
        "\n",
        "# 최종 제출 파일\n"
      ],
      "metadata": {
        "id": "r1ByVJ6b6q8a"
      },
      "execution_count": null,
      "outputs": []
    }
  ]
}